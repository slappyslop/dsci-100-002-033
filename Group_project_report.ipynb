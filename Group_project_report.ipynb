{
 "cells": [
  {
   "cell_type": "markdown",
   "id": "b146c34b-5413-49b9-b9b4-2445a70d86bd",
   "metadata": {},
   "source": [
    "## Group Project Report\n"
   ]
  },
  {
   "cell_type": "code",
   "execution_count": 3,
   "id": "d5923951-36b3-45d6-a56c-cf1395565990",
   "metadata": {},
   "outputs": [
    {
     "name": "stderr",
     "output_type": "stream",
     "text": [
      "Warning message:\n",
      "“package ‘ggplot2’ was built under R version 4.3.2”\n",
      "── \u001b[1mAttaching packages\u001b[22m ────────────────────────────────────── tidymodels 1.1.1 ──\n",
      "\n",
      "\u001b[32m✔\u001b[39m \u001b[34mbroom       \u001b[39m 1.0.5     \u001b[32m✔\u001b[39m \u001b[34mrsample     \u001b[39m 1.2.0\n",
      "\u001b[32m✔\u001b[39m \u001b[34mdials       \u001b[39m 1.2.0     \u001b[32m✔\u001b[39m \u001b[34mtibble      \u001b[39m 3.2.1\n",
      "\u001b[32m✔\u001b[39m \u001b[34mdplyr       \u001b[39m 1.1.3     \u001b[32m✔\u001b[39m \u001b[34mtidyr       \u001b[39m 1.3.0\n",
      "\u001b[32m✔\u001b[39m \u001b[34minfer       \u001b[39m 1.0.5     \u001b[32m✔\u001b[39m \u001b[34mtune        \u001b[39m 1.1.2\n",
      "\u001b[32m✔\u001b[39m \u001b[34mmodeldata   \u001b[39m 1.2.0     \u001b[32m✔\u001b[39m \u001b[34mworkflows   \u001b[39m 1.1.3\n",
      "\u001b[32m✔\u001b[39m \u001b[34mparsnip     \u001b[39m 1.1.1     \u001b[32m✔\u001b[39m \u001b[34mworkflowsets\u001b[39m 1.0.1\n",
      "\u001b[32m✔\u001b[39m \u001b[34mpurrr       \u001b[39m 1.0.2     \u001b[32m✔\u001b[39m \u001b[34myardstick   \u001b[39m 1.2.0\n",
      "\u001b[32m✔\u001b[39m \u001b[34mrecipes     \u001b[39m 1.0.8     \n",
      "\n",
      "── \u001b[1mConflicts\u001b[22m ───────────────────────────────────────── tidymodels_conflicts() ──\n",
      "\u001b[31m✖\u001b[39m \u001b[34mpurrr\u001b[39m::\u001b[32mdiscard()\u001b[39m masks \u001b[34mscales\u001b[39m::discard()\n",
      "\u001b[31m✖\u001b[39m \u001b[34mdplyr\u001b[39m::\u001b[32mfilter()\u001b[39m  masks \u001b[34mstats\u001b[39m::filter()\n",
      "\u001b[31m✖\u001b[39m \u001b[34mdplyr\u001b[39m::\u001b[32mlag()\u001b[39m     masks \u001b[34mstats\u001b[39m::lag()\n",
      "\u001b[31m✖\u001b[39m \u001b[34mrecipes\u001b[39m::\u001b[32mstep()\u001b[39m  masks \u001b[34mstats\u001b[39m::step()\n",
      "\u001b[34m•\u001b[39m Search for functions across packages at \u001b[32mhttps://www.tidymodels.org/find/\u001b[39m\n",
      "\n",
      "── \u001b[1mAttaching core tidyverse packages\u001b[22m ──────────────────────── tidyverse 2.0.0 ──\n",
      "\u001b[32m✔\u001b[39m \u001b[34mforcats  \u001b[39m 1.0.0     \u001b[32m✔\u001b[39m \u001b[34mreadr    \u001b[39m 2.1.4\n",
      "\u001b[32m✔\u001b[39m \u001b[34mlubridate\u001b[39m 1.9.2     \u001b[32m✔\u001b[39m \u001b[34mstringr  \u001b[39m 1.5.0\n",
      "── \u001b[1mConflicts\u001b[22m ────────────────────────────────────────── tidyverse_conflicts() ──\n",
      "\u001b[31m✖\u001b[39m \u001b[34mreadr\u001b[39m::\u001b[32mcol_factor()\u001b[39m masks \u001b[34mscales\u001b[39m::col_factor()\n",
      "\u001b[31m✖\u001b[39m \u001b[34mpurrr\u001b[39m::\u001b[32mdiscard()\u001b[39m    masks \u001b[34mscales\u001b[39m::discard()\n",
      "\u001b[31m✖\u001b[39m \u001b[34mdplyr\u001b[39m::\u001b[32mfilter()\u001b[39m     masks \u001b[34mstats\u001b[39m::filter()\n",
      "\u001b[31m✖\u001b[39m \u001b[34mstringr\u001b[39m::\u001b[32mfixed()\u001b[39m    masks \u001b[34mrecipes\u001b[39m::fixed()\n",
      "\u001b[31m✖\u001b[39m \u001b[34mdplyr\u001b[39m::\u001b[32mlag()\u001b[39m        masks \u001b[34mstats\u001b[39m::lag()\n",
      "\u001b[31m✖\u001b[39m \u001b[34mreadr\u001b[39m::\u001b[32mspec()\u001b[39m       masks \u001b[34myardstick\u001b[39m::spec()\n",
      "\u001b[36mℹ\u001b[39m Use the conflicted package (\u001b[3m\u001b[34m<http://conflicted.r-lib.org/>\u001b[39m\u001b[23m) to force all conflicts to become errors\n",
      "\n",
      "Attaching package: ‘janitor’\n",
      "\n",
      "\n",
      "The following objects are masked from ‘package:stats’:\n",
      "\n",
      "    chisq.test, fisher.test\n",
      "\n",
      "\n",
      "Warning message:\n",
      "“package ‘GGally’ was built under R version 4.3.2”\n",
      "Registered S3 method overwritten by 'GGally':\n",
      "  method from   \n",
      "  +.gg   ggplot2\n",
      "\n",
      "\n",
      "Attaching package: ‘gridExtra’\n",
      "\n",
      "\n",
      "The following object is masked from ‘package:dplyr’:\n",
      "\n",
      "    combine\n",
      "\n",
      "\n"
     ]
    }
   ],
   "source": [
    "library(ggplot2)\n",
    "library(tidymodels)\n",
    "library(tidyverse)\n",
    "library(repr)\n",
    "library(janitor)\n",
    "library(GGally)\n",
    "library(readr)\n",
    "library(dplyr)\n",
    "library(ISLR)\n",
    "library(gridExtra)\n",
    "library(kknn)\n",
    "set.seed(1234)"
   ]
  },
  {
   "cell_type": "markdown",
   "id": "f6bfe284-b7ee-4ca7-993d-18ae17eebf56",
   "metadata": {},
   "source": [
    "## Introduction"
   ]
  },
  {
   "cell_type": "markdown",
   "id": "6bd728e3-7024-439b-a898-24992dd5f8e0",
   "metadata": {},
   "source": [
    "As first-year students seeking an affordable place to stay during the school year, it is important to get some predicted insights on the housing price to have a better overview of the living expenses not just in Vancouver but also in other Canadian cities, and the rental price can be inferred accordingly. Considering this necessity, this study uses two different models, k-Nearest Neighbours (kNN) and linear regression, and aims to discover which model will provide a better prediction of housing prices using the housing listing dataset from the top 45 most populous cities in Canada. \n",
    "\n",
    "KNN regression is a local estimator using its neighbourhood,a non-parametric model, and it produces a flexible line based on the distribution of data. Linear regression, on the other hand, is a global estimator that uses the linear relationship between variables and produces a straight line that illustrates the linear relationship between predictors and responses.\n",
    "\n",
    "The kNN regression model is expected to be a better tool in predicting housing price than the linear regression model. "
   ]
  },
  {
   "cell_type": "markdown",
   "id": "849caefe-05bf-4e9f-8cd4-7a931038a849",
   "metadata": {},
   "source": [
    "## Methods & Results"
   ]
  },
  {
   "cell_type": "markdown",
   "id": "2c4e0f87-9e4f-4acd-8b44-3ae4c34aa06a",
   "metadata": {},
   "source": [
    "    We first read the data and wrangle it by choosing the number of beds and baths greater than 0. We figured that the number_baths was the best predictor compared to other predictors for the linear regression model, so we decided to use it as the predictor against the housing price. This makes sense since a house with a high ratio between the number of beds and baths would have its value lower than those with a relatively equal number of beds and baths. Although logging the price would produce more interpretable visualizations and a lower RMSE, we still kept the housing price at its initial value because if we were to calculate in the exponent form, a small difference in the RMSE value would provide a huge difference in the prediction error. \n",
    "\n",
    "    For the kNN regression model, we accounted for the median family income, number of beds and baths as our predictors since they are both important factors in predicting the household value."
   ]
  },
  {
   "cell_type": "markdown",
   "id": "73340df8-8b03-42ae-86b2-4e73b20e36df",
   "metadata": {},
   "source": [
    "Table 1. Clean dataset with number of beds and baths greater than 0"
   ]
  },
  {
   "cell_type": "code",
   "execution_count": 4,
   "id": "bc7bbf26-ed68-4b11-8718-7dc672bbb886",
   "metadata": {},
   "outputs": [
    {
     "name": "stderr",
     "output_type": "stream",
     "text": [
      "\u001b[1mRows: \u001b[22m\u001b[34m35768\u001b[39m \u001b[1mColumns: \u001b[22m\u001b[34m10\u001b[39m\n",
      "\u001b[36m──\u001b[39m \u001b[1mColumn specification\u001b[22m \u001b[36m────────────────────────────────────────────────────────\u001b[39m\n",
      "\u001b[1mDelimiter:\u001b[22m \",\"\n",
      "\u001b[31mchr\u001b[39m (3): City, Address, Province\n",
      "\u001b[32mdbl\u001b[39m (7): Price, Number_Beds, Number_Baths, Population, Latitude, Longitude, ...\n",
      "\n",
      "\u001b[36mℹ\u001b[39m Use `spec()` to retrieve the full column specification for this data.\n",
      "\u001b[36mℹ\u001b[39m Specify the column types or set `show_col_types = FALSE` to quiet this message.\n"
     ]
    },
    {
     "data": {
      "text/html": [
       "<table class=\"dataframe\">\n",
       "<caption>A spec_tbl_df: 34931 × 10</caption>\n",
       "<thead>\n",
       "\t<tr><th scope=col>city</th><th scope=col>price</th><th scope=col>address</th><th scope=col>number_beds</th><th scope=col>number_baths</th><th scope=col>province</th><th scope=col>population</th><th scope=col>latitude</th><th scope=col>longitude</th><th scope=col>median_family_income</th></tr>\n",
       "\t<tr><th scope=col>&lt;chr&gt;</th><th scope=col>&lt;dbl&gt;</th><th scope=col>&lt;chr&gt;</th><th scope=col>&lt;dbl&gt;</th><th scope=col>&lt;dbl&gt;</th><th scope=col>&lt;chr&gt;</th><th scope=col>&lt;dbl&gt;</th><th scope=col>&lt;dbl&gt;</th><th scope=col>&lt;dbl&gt;</th><th scope=col>&lt;dbl&gt;</th></tr>\n",
       "</thead>\n",
       "<tbody>\n",
       "\t<tr><td>Toronto</td><td> 779900</td><td>#318 -20 SOUTHPORT ST         </td><td>3</td><td>2</td><td>Ontario</td><td>5647656</td><td>43.7417</td><td>-79.3733</td><td>97000</td></tr>\n",
       "\t<tr><td>Toronto</td><td> 799999</td><td>#818 -60 SOUTHPORT ST         </td><td>3</td><td>1</td><td>Ontario</td><td>5647656</td><td>43.7417</td><td>-79.3733</td><td>97000</td></tr>\n",
       "\t<tr><td>Toronto</td><td> 799900</td><td>#714 -859 THE QUEENSWAY       </td><td>2</td><td>2</td><td>Ontario</td><td>5647656</td><td>43.7417</td><td>-79.3733</td><td>97000</td></tr>\n",
       "\t<tr><td>Toronto</td><td>1200000</td><td>275 MORTIMER AVE              </td><td>4</td><td>2</td><td>Ontario</td><td>5647656</td><td>43.7417</td><td>-79.3733</td><td>97000</td></tr>\n",
       "\t<tr><td>Toronto</td><td> 668800</td><td>#420 -388 RICHMOND ST         </td><td>1</td><td>1</td><td>Ontario</td><td>5647656</td><td>43.7417</td><td>-79.3733</td><td>97000</td></tr>\n",
       "\t<tr><td>Toronto</td><td> 669900</td><td>#817 -151 DAN LECKIE WAY      </td><td>2</td><td>1</td><td>Ontario</td><td>5647656</td><td>43.7417</td><td>-79.3733</td><td>97000</td></tr>\n",
       "\t<tr><td>Toronto</td><td> 699000</td><td>#1107 -438 KING ST W          </td><td>2</td><td>2</td><td>Ontario</td><td>5647656</td><td>43.7417</td><td>-79.3733</td><td>97000</td></tr>\n",
       "\t<tr><td>Toronto</td><td> 978000</td><td>#2708 -20 EDWARD ST           </td><td>3</td><td>2</td><td>Ontario</td><td>5647656</td><td>43.7417</td><td>-79.3733</td><td>97000</td></tr>\n",
       "\t<tr><td>Toronto</td><td> 958000</td><td>#4616 -386 YONGE ST           </td><td>2</td><td>2</td><td>Ontario</td><td>5647656</td><td>43.7417</td><td>-79.3733</td><td>97000</td></tr>\n",
       "\t<tr><td>Toronto</td><td>1899000</td><td>#2713 -155 YORKVILLE AVE      </td><td>2</td><td>3</td><td>Ontario</td><td>5647656</td><td>43.7417</td><td>-79.3733</td><td>97000</td></tr>\n",
       "\t<tr><td>Toronto</td><td> 559900</td><td>#1113 -80 MILL ST             </td><td>2</td><td>1</td><td>Ontario</td><td>5647656</td><td>43.7417</td><td>-79.3733</td><td>97000</td></tr>\n",
       "\t<tr><td>Toronto</td><td> 498800</td><td>#517 -55 EAST LIBERTY ST      </td><td>1</td><td>1</td><td>Ontario</td><td>5647656</td><td>43.7417</td><td>-79.3733</td><td>97000</td></tr>\n",
       "\t<tr><td>Toronto</td><td>1450000</td><td>45 BARTLETT AVE               </td><td>4</td><td>2</td><td>Ontario</td><td>5647656</td><td>43.7417</td><td>-79.3733</td><td>97000</td></tr>\n",
       "\t<tr><td>Toronto</td><td> 650000</td><td>##1902 -1926 LAKE SHORE BLVD W</td><td>2</td><td>1</td><td>Ontario</td><td>5647656</td><td>43.7417</td><td>-79.3733</td><td>97000</td></tr>\n",
       "\t<tr><td>Toronto</td><td> 745000</td><td>##812 -103 THE QUEENSWAY      </td><td>2</td><td>2</td><td>Ontario</td><td>5647656</td><td>43.7417</td><td>-79.3733</td><td>97000</td></tr>\n",
       "\t<tr><td>Toronto</td><td> 784900</td><td>#106 -10 WILBY CRES           </td><td>3</td><td>2</td><td>Ontario</td><td>5647656</td><td>43.7417</td><td>-79.3733</td><td>97000</td></tr>\n",
       "\t<tr><td>Toronto</td><td> 998000</td><td>3065 WESTON RD                </td><td>4</td><td>2</td><td>Ontario</td><td>5647656</td><td>43.7417</td><td>-79.3733</td><td>97000</td></tr>\n",
       "\t<tr><td>Toronto</td><td> 989900</td><td>468 MILVERTON BLVD            </td><td>4</td><td>2</td><td>Ontario</td><td>5647656</td><td>43.7417</td><td>-79.3733</td><td>97000</td></tr>\n",
       "\t<tr><td>Toronto</td><td>1099000</td><td>#1816 -35 MERCER ST           </td><td>3</td><td>2</td><td>Ontario</td><td>5647656</td><td>43.7417</td><td>-79.3733</td><td>97000</td></tr>\n",
       "\t<tr><td>Toronto</td><td> 590000</td><td>#1720 -36 LISGAR ST W         </td><td>2</td><td>2</td><td>Ontario</td><td>5647656</td><td>43.7417</td><td>-79.3733</td><td>97000</td></tr>\n",
       "\t<tr><td>Toronto</td><td> 899900</td><td>#2 -350 GERRARD ST E          </td><td>2</td><td>2</td><td>Ontario</td><td>5647656</td><td>43.7417</td><td>-79.3733</td><td>97000</td></tr>\n",
       "\t<tr><td>Toronto</td><td> 585000</td><td>#205 -133 WYNFORD DR          </td><td>2</td><td>1</td><td>Ontario</td><td>5647656</td><td>43.7417</td><td>-79.3733</td><td>97000</td></tr>\n",
       "\t<tr><td>Toronto</td><td> 899000</td><td>117 WYNDCLIFF CRES            </td><td>3</td><td>2</td><td>Ontario</td><td>5647656</td><td>43.7417</td><td>-79.3733</td><td>97000</td></tr>\n",
       "\t<tr><td>Toronto</td><td> 488000</td><td>#1213 -195 REDPATH AVE        </td><td>1</td><td>1</td><td>Ontario</td><td>5647656</td><td>43.7417</td><td>-79.3733</td><td>97000</td></tr>\n",
       "\t<tr><td>Toronto</td><td> 650000</td><td>#801 -100 HAYDEN ST           </td><td>2</td><td>2</td><td>Ontario</td><td>5647656</td><td>43.7417</td><td>-79.3733</td><td>97000</td></tr>\n",
       "\t<tr><td>Toronto</td><td> 498000</td><td>#812 -600 FLEET ST            </td><td>2</td><td>1</td><td>Ontario</td><td>5647656</td><td>43.7417</td><td>-79.3733</td><td>97000</td></tr>\n",
       "\t<tr><td>Toronto</td><td>1595000</td><td>15 LAURIER AVE                </td><td>3</td><td>3</td><td>Ontario</td><td>5647656</td><td>43.7417</td><td>-79.3733</td><td>97000</td></tr>\n",
       "\t<tr><td>Toronto</td><td> 718000</td><td>#5008 -2221 YONGE ST          </td><td>1</td><td>1</td><td>Ontario</td><td>5647656</td><td>43.7417</td><td>-79.3733</td><td>97000</td></tr>\n",
       "\t<tr><td>Toronto</td><td>1350000</td><td>#1203 -63 ST CLAIR AVE W      </td><td>2</td><td>2</td><td>Ontario</td><td>5647656</td><td>43.7417</td><td>-79.3733</td><td>97000</td></tr>\n",
       "\t<tr><td>Toronto</td><td> 999000</td><td>#1808 -126 SIMCOE ST          </td><td>3</td><td>2</td><td>Ontario</td><td>5647656</td><td>43.7417</td><td>-79.3733</td><td>97000</td></tr>\n",
       "\t<tr><td>⋮</td><td>⋮</td><td>⋮</td><td>⋮</td><td>⋮</td><td>⋮</td><td>⋮</td><td>⋮</td><td>⋮</td><td>⋮</td></tr>\n",
       "\t<tr><td>Halifax</td><td> 598000</td><td>5883 Stanley Street         </td><td>3</td><td>1</td><td>Nova Scotia</td><td>431479</td><td>44.8857</td><td>63.1005</td><td>86753</td></tr>\n",
       "\t<tr><td>Halifax</td><td> 449000</td><td>24 Lynn Road                </td><td>3</td><td>1</td><td>Nova Scotia</td><td>431479</td><td>44.8857</td><td>63.1005</td><td>86753</td></tr>\n",
       "\t<tr><td>Halifax</td><td> 599900</td><td>6568 Young Street           </td><td>3</td><td>2</td><td>Nova Scotia</td><td>431479</td><td>44.8857</td><td>63.1005</td><td>86753</td></tr>\n",
       "\t<tr><td>Halifax</td><td> 990000</td><td>2092 Beech Street           </td><td>4</td><td>4</td><td>Nova Scotia</td><td>431479</td><td>44.8857</td><td>63.1005</td><td>86753</td></tr>\n",
       "\t<tr><td>Halifax</td><td> 429900</td><td>201 60 Walter Havill Drive  </td><td>2</td><td>2</td><td>Nova Scotia</td><td>431479</td><td>44.8857</td><td>63.1005</td><td>86753</td></tr>\n",
       "\t<tr><td>Halifax</td><td> 650000</td><td>6497 Bayers Road            </td><td>2</td><td>2</td><td>Nova Scotia</td><td>431479</td><td>44.8857</td><td>63.1005</td><td>86753</td></tr>\n",
       "\t<tr><td>Halifax</td><td> 650000</td><td>6487 Bayers Road            </td><td>4</td><td>3</td><td>Nova Scotia</td><td>431479</td><td>44.8857</td><td>63.1005</td><td>86753</td></tr>\n",
       "\t<tr><td>Halifax</td><td> 599900</td><td>204 5355 Russell Street     </td><td>2</td><td>2</td><td>Nova Scotia</td><td>431479</td><td>44.8857</td><td>63.1005</td><td>86753</td></tr>\n",
       "\t<tr><td>Halifax</td><td> 599000</td><td>31 Flatrock Crescent        </td><td>4</td><td>4</td><td>Nova Scotia</td><td>431479</td><td>44.8857</td><td>63.1005</td><td>86753</td></tr>\n",
       "\t<tr><td>Halifax</td><td> 849999</td><td>6284 Allan Street           </td><td>4</td><td>3</td><td>Nova Scotia</td><td>431479</td><td>44.8857</td><td>63.1005</td><td>86753</td></tr>\n",
       "\t<tr><td>Halifax</td><td> 850000</td><td>2659 Connolly Street        </td><td>2</td><td>3</td><td>Nova Scotia</td><td>431479</td><td>44.8857</td><td>63.1005</td><td>86753</td></tr>\n",
       "\t<tr><td>Halifax</td><td> 599900</td><td>629 Cowie Hill Road         </td><td>3</td><td>4</td><td>Nova Scotia</td><td>431479</td><td>44.8857</td><td>63.1005</td><td>86753</td></tr>\n",
       "\t<tr><td>Halifax</td><td> 895000</td><td>1 Rockwood Avenue           </td><td>4</td><td>3</td><td>Nova Scotia</td><td>431479</td><td>44.8857</td><td>63.1005</td><td>86753</td></tr>\n",
       "\t<tr><td>Halifax</td><td> 679000</td><td>6371 Norwood Street         </td><td>2</td><td>1</td><td>Nova Scotia</td><td>431479</td><td>44.8857</td><td>63.1005</td><td>86753</td></tr>\n",
       "\t<tr><td>Halifax</td><td> 739770</td><td>1 0 Old Sambro Road         </td><td>4</td><td>3</td><td>Nova Scotia</td><td>431479</td><td>44.8857</td><td>63.1005</td><td>86753</td></tr>\n",
       "\t<tr><td>Halifax</td><td> 599000</td><td>29 Flatrock Crescent        </td><td>4</td><td>4</td><td>Nova Scotia</td><td>431479</td><td>44.8857</td><td>63.1005</td><td>86753</td></tr>\n",
       "\t<tr><td>Halifax</td><td> 459900</td><td>401 60 Walter Havill Drive  </td><td>2</td><td>2</td><td>Nova Scotia</td><td>431479</td><td>44.8857</td><td>63.1005</td><td>86753</td></tr>\n",
       "\t<tr><td>Halifax</td><td>6995000</td><td>6944 Armview Avenue         </td><td>4</td><td>5</td><td>Nova Scotia</td><td>431479</td><td>44.8857</td><td>63.1005</td><td>86753</td></tr>\n",
       "\t<tr><td>Halifax</td><td> 879900</td><td>2093 Beech Street           </td><td>4</td><td>3</td><td>Nova Scotia</td><td>431479</td><td>44.8857</td><td>63.1005</td><td>86753</td></tr>\n",
       "\t<tr><td>Halifax</td><td> 605000</td><td>3308 Ashburn Avenue         </td><td>3</td><td>2</td><td>Nova Scotia</td><td>431479</td><td>44.8857</td><td>63.1005</td><td>86753</td></tr>\n",
       "\t<tr><td>Halifax</td><td> 684900</td><td>1389/1391 Purcells Cove Road</td><td>4</td><td>3</td><td>Nova Scotia</td><td>431479</td><td>44.8857</td><td>63.1005</td><td>86753</td></tr>\n",
       "\t<tr><td>Halifax</td><td>1799900</td><td>19 Kirk Road                </td><td>5</td><td>3</td><td>Nova Scotia</td><td>431479</td><td>44.8857</td><td>63.1005</td><td>86753</td></tr>\n",
       "\t<tr><td>Halifax</td><td> 549000</td><td>406 6369 Coburg Road        </td><td>3</td><td>2</td><td>Nova Scotia</td><td>431479</td><td>44.8857</td><td>63.1005</td><td>86753</td></tr>\n",
       "\t<tr><td>Halifax</td><td> 679000</td><td>28 Roxham Close             </td><td>3</td><td>4</td><td>Nova Scotia</td><td>431479</td><td>44.8857</td><td>63.1005</td><td>86753</td></tr>\n",
       "\t<tr><td>Halifax</td><td> 580000</td><td>3500 Claremont Street       </td><td>3</td><td>1</td><td>Nova Scotia</td><td>431479</td><td>44.8857</td><td>63.1005</td><td>86753</td></tr>\n",
       "\t<tr><td>Halifax</td><td> 439900</td><td>301 60 Walter Havill Drive  </td><td>2</td><td>2</td><td>Nova Scotia</td><td>431479</td><td>44.8857</td><td>63.1005</td><td>86753</td></tr>\n",
       "\t<tr><td>Halifax</td><td>6990000</td><td>1160 Rockcliffe Street      </td><td>5</td><td>5</td><td>Nova Scotia</td><td>431479</td><td>44.8857</td><td>63.1005</td><td>86753</td></tr>\n",
       "\t<tr><td>Halifax</td><td> 419900</td><td>212 60 Walter Havill Drive  </td><td>2</td><td>2</td><td>Nova Scotia</td><td>431479</td><td>44.8857</td><td>63.1005</td><td>86753</td></tr>\n",
       "\t<tr><td>Halifax</td><td> 949900</td><td>10 Idlewylde Road           </td><td>3</td><td>1</td><td>Nova Scotia</td><td>431479</td><td>44.8857</td><td>63.1005</td><td>86753</td></tr>\n",
       "\t<tr><td>Halifax</td><td> 592900</td><td>208 2842-2856 Gottingen     </td><td>2</td><td>1</td><td>Nova Scotia</td><td>431479</td><td>44.8857</td><td>63.1005</td><td>86753</td></tr>\n",
       "</tbody>\n",
       "</table>\n"
      ],
      "text/latex": [
       "A spec\\_tbl\\_df: 34931 × 10\n",
       "\\begin{tabular}{llllllllll}\n",
       " city & price & address & number\\_beds & number\\_baths & province & population & latitude & longitude & median\\_family\\_income\\\\\n",
       " <chr> & <dbl> & <chr> & <dbl> & <dbl> & <chr> & <dbl> & <dbl> & <dbl> & <dbl>\\\\\n",
       "\\hline\n",
       "\t Toronto &  779900 & \\#318 -20 SOUTHPORT ST          & 3 & 2 & Ontario & 5647656 & 43.7417 & -79.3733 & 97000\\\\\n",
       "\t Toronto &  799999 & \\#818 -60 SOUTHPORT ST          & 3 & 1 & Ontario & 5647656 & 43.7417 & -79.3733 & 97000\\\\\n",
       "\t Toronto &  799900 & \\#714 -859 THE QUEENSWAY        & 2 & 2 & Ontario & 5647656 & 43.7417 & -79.3733 & 97000\\\\\n",
       "\t Toronto & 1200000 & 275 MORTIMER AVE               & 4 & 2 & Ontario & 5647656 & 43.7417 & -79.3733 & 97000\\\\\n",
       "\t Toronto &  668800 & \\#420 -388 RICHMOND ST          & 1 & 1 & Ontario & 5647656 & 43.7417 & -79.3733 & 97000\\\\\n",
       "\t Toronto &  669900 & \\#817 -151 DAN LECKIE WAY       & 2 & 1 & Ontario & 5647656 & 43.7417 & -79.3733 & 97000\\\\\n",
       "\t Toronto &  699000 & \\#1107 -438 KING ST W           & 2 & 2 & Ontario & 5647656 & 43.7417 & -79.3733 & 97000\\\\\n",
       "\t Toronto &  978000 & \\#2708 -20 EDWARD ST            & 3 & 2 & Ontario & 5647656 & 43.7417 & -79.3733 & 97000\\\\\n",
       "\t Toronto &  958000 & \\#4616 -386 YONGE ST            & 2 & 2 & Ontario & 5647656 & 43.7417 & -79.3733 & 97000\\\\\n",
       "\t Toronto & 1899000 & \\#2713 -155 YORKVILLE AVE       & 2 & 3 & Ontario & 5647656 & 43.7417 & -79.3733 & 97000\\\\\n",
       "\t Toronto &  559900 & \\#1113 -80 MILL ST              & 2 & 1 & Ontario & 5647656 & 43.7417 & -79.3733 & 97000\\\\\n",
       "\t Toronto &  498800 & \\#517 -55 EAST LIBERTY ST       & 1 & 1 & Ontario & 5647656 & 43.7417 & -79.3733 & 97000\\\\\n",
       "\t Toronto & 1450000 & 45 BARTLETT AVE                & 4 & 2 & Ontario & 5647656 & 43.7417 & -79.3733 & 97000\\\\\n",
       "\t Toronto &  650000 & \\#\\#1902 -1926 LAKE SHORE BLVD W & 2 & 1 & Ontario & 5647656 & 43.7417 & -79.3733 & 97000\\\\\n",
       "\t Toronto &  745000 & \\#\\#812 -103 THE QUEENSWAY       & 2 & 2 & Ontario & 5647656 & 43.7417 & -79.3733 & 97000\\\\\n",
       "\t Toronto &  784900 & \\#106 -10 WILBY CRES            & 3 & 2 & Ontario & 5647656 & 43.7417 & -79.3733 & 97000\\\\\n",
       "\t Toronto &  998000 & 3065 WESTON RD                 & 4 & 2 & Ontario & 5647656 & 43.7417 & -79.3733 & 97000\\\\\n",
       "\t Toronto &  989900 & 468 MILVERTON BLVD             & 4 & 2 & Ontario & 5647656 & 43.7417 & -79.3733 & 97000\\\\\n",
       "\t Toronto & 1099000 & \\#1816 -35 MERCER ST            & 3 & 2 & Ontario & 5647656 & 43.7417 & -79.3733 & 97000\\\\\n",
       "\t Toronto &  590000 & \\#1720 -36 LISGAR ST W          & 2 & 2 & Ontario & 5647656 & 43.7417 & -79.3733 & 97000\\\\\n",
       "\t Toronto &  899900 & \\#2 -350 GERRARD ST E           & 2 & 2 & Ontario & 5647656 & 43.7417 & -79.3733 & 97000\\\\\n",
       "\t Toronto &  585000 & \\#205 -133 WYNFORD DR           & 2 & 1 & Ontario & 5647656 & 43.7417 & -79.3733 & 97000\\\\\n",
       "\t Toronto &  899000 & 117 WYNDCLIFF CRES             & 3 & 2 & Ontario & 5647656 & 43.7417 & -79.3733 & 97000\\\\\n",
       "\t Toronto &  488000 & \\#1213 -195 REDPATH AVE         & 1 & 1 & Ontario & 5647656 & 43.7417 & -79.3733 & 97000\\\\\n",
       "\t Toronto &  650000 & \\#801 -100 HAYDEN ST            & 2 & 2 & Ontario & 5647656 & 43.7417 & -79.3733 & 97000\\\\\n",
       "\t Toronto &  498000 & \\#812 -600 FLEET ST             & 2 & 1 & Ontario & 5647656 & 43.7417 & -79.3733 & 97000\\\\\n",
       "\t Toronto & 1595000 & 15 LAURIER AVE                 & 3 & 3 & Ontario & 5647656 & 43.7417 & -79.3733 & 97000\\\\\n",
       "\t Toronto &  718000 & \\#5008 -2221 YONGE ST           & 1 & 1 & Ontario & 5647656 & 43.7417 & -79.3733 & 97000\\\\\n",
       "\t Toronto & 1350000 & \\#1203 -63 ST CLAIR AVE W       & 2 & 2 & Ontario & 5647656 & 43.7417 & -79.3733 & 97000\\\\\n",
       "\t Toronto &  999000 & \\#1808 -126 SIMCOE ST           & 3 & 2 & Ontario & 5647656 & 43.7417 & -79.3733 & 97000\\\\\n",
       "\t ⋮ & ⋮ & ⋮ & ⋮ & ⋮ & ⋮ & ⋮ & ⋮ & ⋮ & ⋮\\\\\n",
       "\t Halifax &  598000 & 5883 Stanley Street          & 3 & 1 & Nova Scotia & 431479 & 44.8857 & 63.1005 & 86753\\\\\n",
       "\t Halifax &  449000 & 24 Lynn Road                 & 3 & 1 & Nova Scotia & 431479 & 44.8857 & 63.1005 & 86753\\\\\n",
       "\t Halifax &  599900 & 6568 Young Street            & 3 & 2 & Nova Scotia & 431479 & 44.8857 & 63.1005 & 86753\\\\\n",
       "\t Halifax &  990000 & 2092 Beech Street            & 4 & 4 & Nova Scotia & 431479 & 44.8857 & 63.1005 & 86753\\\\\n",
       "\t Halifax &  429900 & 201 60 Walter Havill Drive   & 2 & 2 & Nova Scotia & 431479 & 44.8857 & 63.1005 & 86753\\\\\n",
       "\t Halifax &  650000 & 6497 Bayers Road             & 2 & 2 & Nova Scotia & 431479 & 44.8857 & 63.1005 & 86753\\\\\n",
       "\t Halifax &  650000 & 6487 Bayers Road             & 4 & 3 & Nova Scotia & 431479 & 44.8857 & 63.1005 & 86753\\\\\n",
       "\t Halifax &  599900 & 204 5355 Russell Street      & 2 & 2 & Nova Scotia & 431479 & 44.8857 & 63.1005 & 86753\\\\\n",
       "\t Halifax &  599000 & 31 Flatrock Crescent         & 4 & 4 & Nova Scotia & 431479 & 44.8857 & 63.1005 & 86753\\\\\n",
       "\t Halifax &  849999 & 6284 Allan Street            & 4 & 3 & Nova Scotia & 431479 & 44.8857 & 63.1005 & 86753\\\\\n",
       "\t Halifax &  850000 & 2659 Connolly Street         & 2 & 3 & Nova Scotia & 431479 & 44.8857 & 63.1005 & 86753\\\\\n",
       "\t Halifax &  599900 & 629 Cowie Hill Road          & 3 & 4 & Nova Scotia & 431479 & 44.8857 & 63.1005 & 86753\\\\\n",
       "\t Halifax &  895000 & 1 Rockwood Avenue            & 4 & 3 & Nova Scotia & 431479 & 44.8857 & 63.1005 & 86753\\\\\n",
       "\t Halifax &  679000 & 6371 Norwood Street          & 2 & 1 & Nova Scotia & 431479 & 44.8857 & 63.1005 & 86753\\\\\n",
       "\t Halifax &  739770 & 1 0 Old Sambro Road          & 4 & 3 & Nova Scotia & 431479 & 44.8857 & 63.1005 & 86753\\\\\n",
       "\t Halifax &  599000 & 29 Flatrock Crescent         & 4 & 4 & Nova Scotia & 431479 & 44.8857 & 63.1005 & 86753\\\\\n",
       "\t Halifax &  459900 & 401 60 Walter Havill Drive   & 2 & 2 & Nova Scotia & 431479 & 44.8857 & 63.1005 & 86753\\\\\n",
       "\t Halifax & 6995000 & 6944 Armview Avenue          & 4 & 5 & Nova Scotia & 431479 & 44.8857 & 63.1005 & 86753\\\\\n",
       "\t Halifax &  879900 & 2093 Beech Street            & 4 & 3 & Nova Scotia & 431479 & 44.8857 & 63.1005 & 86753\\\\\n",
       "\t Halifax &  605000 & 3308 Ashburn Avenue          & 3 & 2 & Nova Scotia & 431479 & 44.8857 & 63.1005 & 86753\\\\\n",
       "\t Halifax &  684900 & 1389/1391 Purcells Cove Road & 4 & 3 & Nova Scotia & 431479 & 44.8857 & 63.1005 & 86753\\\\\n",
       "\t Halifax & 1799900 & 19 Kirk Road                 & 5 & 3 & Nova Scotia & 431479 & 44.8857 & 63.1005 & 86753\\\\\n",
       "\t Halifax &  549000 & 406 6369 Coburg Road         & 3 & 2 & Nova Scotia & 431479 & 44.8857 & 63.1005 & 86753\\\\\n",
       "\t Halifax &  679000 & 28 Roxham Close              & 3 & 4 & Nova Scotia & 431479 & 44.8857 & 63.1005 & 86753\\\\\n",
       "\t Halifax &  580000 & 3500 Claremont Street        & 3 & 1 & Nova Scotia & 431479 & 44.8857 & 63.1005 & 86753\\\\\n",
       "\t Halifax &  439900 & 301 60 Walter Havill Drive   & 2 & 2 & Nova Scotia & 431479 & 44.8857 & 63.1005 & 86753\\\\\n",
       "\t Halifax & 6990000 & 1160 Rockcliffe Street       & 5 & 5 & Nova Scotia & 431479 & 44.8857 & 63.1005 & 86753\\\\\n",
       "\t Halifax &  419900 & 212 60 Walter Havill Drive   & 2 & 2 & Nova Scotia & 431479 & 44.8857 & 63.1005 & 86753\\\\\n",
       "\t Halifax &  949900 & 10 Idlewylde Road            & 3 & 1 & Nova Scotia & 431479 & 44.8857 & 63.1005 & 86753\\\\\n",
       "\t Halifax &  592900 & 208 2842-2856 Gottingen      & 2 & 1 & Nova Scotia & 431479 & 44.8857 & 63.1005 & 86753\\\\\n",
       "\\end{tabular}\n"
      ],
      "text/markdown": [
       "\n",
       "A spec_tbl_df: 34931 × 10\n",
       "\n",
       "| city &lt;chr&gt; | price &lt;dbl&gt; | address &lt;chr&gt; | number_beds &lt;dbl&gt; | number_baths &lt;dbl&gt; | province &lt;chr&gt; | population &lt;dbl&gt; | latitude &lt;dbl&gt; | longitude &lt;dbl&gt; | median_family_income &lt;dbl&gt; |\n",
       "|---|---|---|---|---|---|---|---|---|---|\n",
       "| Toronto |  779900 | #318 -20 SOUTHPORT ST          | 3 | 2 | Ontario | 5647656 | 43.7417 | -79.3733 | 97000 |\n",
       "| Toronto |  799999 | #818 -60 SOUTHPORT ST          | 3 | 1 | Ontario | 5647656 | 43.7417 | -79.3733 | 97000 |\n",
       "| Toronto |  799900 | #714 -859 THE QUEENSWAY        | 2 | 2 | Ontario | 5647656 | 43.7417 | -79.3733 | 97000 |\n",
       "| Toronto | 1200000 | 275 MORTIMER AVE               | 4 | 2 | Ontario | 5647656 | 43.7417 | -79.3733 | 97000 |\n",
       "| Toronto |  668800 | #420 -388 RICHMOND ST          | 1 | 1 | Ontario | 5647656 | 43.7417 | -79.3733 | 97000 |\n",
       "| Toronto |  669900 | #817 -151 DAN LECKIE WAY       | 2 | 1 | Ontario | 5647656 | 43.7417 | -79.3733 | 97000 |\n",
       "| Toronto |  699000 | #1107 -438 KING ST W           | 2 | 2 | Ontario | 5647656 | 43.7417 | -79.3733 | 97000 |\n",
       "| Toronto |  978000 | #2708 -20 EDWARD ST            | 3 | 2 | Ontario | 5647656 | 43.7417 | -79.3733 | 97000 |\n",
       "| Toronto |  958000 | #4616 -386 YONGE ST            | 2 | 2 | Ontario | 5647656 | 43.7417 | -79.3733 | 97000 |\n",
       "| Toronto | 1899000 | #2713 -155 YORKVILLE AVE       | 2 | 3 | Ontario | 5647656 | 43.7417 | -79.3733 | 97000 |\n",
       "| Toronto |  559900 | #1113 -80 MILL ST              | 2 | 1 | Ontario | 5647656 | 43.7417 | -79.3733 | 97000 |\n",
       "| Toronto |  498800 | #517 -55 EAST LIBERTY ST       | 1 | 1 | Ontario | 5647656 | 43.7417 | -79.3733 | 97000 |\n",
       "| Toronto | 1450000 | 45 BARTLETT AVE                | 4 | 2 | Ontario | 5647656 | 43.7417 | -79.3733 | 97000 |\n",
       "| Toronto |  650000 | ##1902 -1926 LAKE SHORE BLVD W | 2 | 1 | Ontario | 5647656 | 43.7417 | -79.3733 | 97000 |\n",
       "| Toronto |  745000 | ##812 -103 THE QUEENSWAY       | 2 | 2 | Ontario | 5647656 | 43.7417 | -79.3733 | 97000 |\n",
       "| Toronto |  784900 | #106 -10 WILBY CRES            | 3 | 2 | Ontario | 5647656 | 43.7417 | -79.3733 | 97000 |\n",
       "| Toronto |  998000 | 3065 WESTON RD                 | 4 | 2 | Ontario | 5647656 | 43.7417 | -79.3733 | 97000 |\n",
       "| Toronto |  989900 | 468 MILVERTON BLVD             | 4 | 2 | Ontario | 5647656 | 43.7417 | -79.3733 | 97000 |\n",
       "| Toronto | 1099000 | #1816 -35 MERCER ST            | 3 | 2 | Ontario | 5647656 | 43.7417 | -79.3733 | 97000 |\n",
       "| Toronto |  590000 | #1720 -36 LISGAR ST W          | 2 | 2 | Ontario | 5647656 | 43.7417 | -79.3733 | 97000 |\n",
       "| Toronto |  899900 | #2 -350 GERRARD ST E           | 2 | 2 | Ontario | 5647656 | 43.7417 | -79.3733 | 97000 |\n",
       "| Toronto |  585000 | #205 -133 WYNFORD DR           | 2 | 1 | Ontario | 5647656 | 43.7417 | -79.3733 | 97000 |\n",
       "| Toronto |  899000 | 117 WYNDCLIFF CRES             | 3 | 2 | Ontario | 5647656 | 43.7417 | -79.3733 | 97000 |\n",
       "| Toronto |  488000 | #1213 -195 REDPATH AVE         | 1 | 1 | Ontario | 5647656 | 43.7417 | -79.3733 | 97000 |\n",
       "| Toronto |  650000 | #801 -100 HAYDEN ST            | 2 | 2 | Ontario | 5647656 | 43.7417 | -79.3733 | 97000 |\n",
       "| Toronto |  498000 | #812 -600 FLEET ST             | 2 | 1 | Ontario | 5647656 | 43.7417 | -79.3733 | 97000 |\n",
       "| Toronto | 1595000 | 15 LAURIER AVE                 | 3 | 3 | Ontario | 5647656 | 43.7417 | -79.3733 | 97000 |\n",
       "| Toronto |  718000 | #5008 -2221 YONGE ST           | 1 | 1 | Ontario | 5647656 | 43.7417 | -79.3733 | 97000 |\n",
       "| Toronto | 1350000 | #1203 -63 ST CLAIR AVE W       | 2 | 2 | Ontario | 5647656 | 43.7417 | -79.3733 | 97000 |\n",
       "| Toronto |  999000 | #1808 -126 SIMCOE ST           | 3 | 2 | Ontario | 5647656 | 43.7417 | -79.3733 | 97000 |\n",
       "| ⋮ | ⋮ | ⋮ | ⋮ | ⋮ | ⋮ | ⋮ | ⋮ | ⋮ | ⋮ |\n",
       "| Halifax |  598000 | 5883 Stanley Street          | 3 | 1 | Nova Scotia | 431479 | 44.8857 | 63.1005 | 86753 |\n",
       "| Halifax |  449000 | 24 Lynn Road                 | 3 | 1 | Nova Scotia | 431479 | 44.8857 | 63.1005 | 86753 |\n",
       "| Halifax |  599900 | 6568 Young Street            | 3 | 2 | Nova Scotia | 431479 | 44.8857 | 63.1005 | 86753 |\n",
       "| Halifax |  990000 | 2092 Beech Street            | 4 | 4 | Nova Scotia | 431479 | 44.8857 | 63.1005 | 86753 |\n",
       "| Halifax |  429900 | 201 60 Walter Havill Drive   | 2 | 2 | Nova Scotia | 431479 | 44.8857 | 63.1005 | 86753 |\n",
       "| Halifax |  650000 | 6497 Bayers Road             | 2 | 2 | Nova Scotia | 431479 | 44.8857 | 63.1005 | 86753 |\n",
       "| Halifax |  650000 | 6487 Bayers Road             | 4 | 3 | Nova Scotia | 431479 | 44.8857 | 63.1005 | 86753 |\n",
       "| Halifax |  599900 | 204 5355 Russell Street      | 2 | 2 | Nova Scotia | 431479 | 44.8857 | 63.1005 | 86753 |\n",
       "| Halifax |  599000 | 31 Flatrock Crescent         | 4 | 4 | Nova Scotia | 431479 | 44.8857 | 63.1005 | 86753 |\n",
       "| Halifax |  849999 | 6284 Allan Street            | 4 | 3 | Nova Scotia | 431479 | 44.8857 | 63.1005 | 86753 |\n",
       "| Halifax |  850000 | 2659 Connolly Street         | 2 | 3 | Nova Scotia | 431479 | 44.8857 | 63.1005 | 86753 |\n",
       "| Halifax |  599900 | 629 Cowie Hill Road          | 3 | 4 | Nova Scotia | 431479 | 44.8857 | 63.1005 | 86753 |\n",
       "| Halifax |  895000 | 1 Rockwood Avenue            | 4 | 3 | Nova Scotia | 431479 | 44.8857 | 63.1005 | 86753 |\n",
       "| Halifax |  679000 | 6371 Norwood Street          | 2 | 1 | Nova Scotia | 431479 | 44.8857 | 63.1005 | 86753 |\n",
       "| Halifax |  739770 | 1 0 Old Sambro Road          | 4 | 3 | Nova Scotia | 431479 | 44.8857 | 63.1005 | 86753 |\n",
       "| Halifax |  599000 | 29 Flatrock Crescent         | 4 | 4 | Nova Scotia | 431479 | 44.8857 | 63.1005 | 86753 |\n",
       "| Halifax |  459900 | 401 60 Walter Havill Drive   | 2 | 2 | Nova Scotia | 431479 | 44.8857 | 63.1005 | 86753 |\n",
       "| Halifax | 6995000 | 6944 Armview Avenue          | 4 | 5 | Nova Scotia | 431479 | 44.8857 | 63.1005 | 86753 |\n",
       "| Halifax |  879900 | 2093 Beech Street            | 4 | 3 | Nova Scotia | 431479 | 44.8857 | 63.1005 | 86753 |\n",
       "| Halifax |  605000 | 3308 Ashburn Avenue          | 3 | 2 | Nova Scotia | 431479 | 44.8857 | 63.1005 | 86753 |\n",
       "| Halifax |  684900 | 1389/1391 Purcells Cove Road | 4 | 3 | Nova Scotia | 431479 | 44.8857 | 63.1005 | 86753 |\n",
       "| Halifax | 1799900 | 19 Kirk Road                 | 5 | 3 | Nova Scotia | 431479 | 44.8857 | 63.1005 | 86753 |\n",
       "| Halifax |  549000 | 406 6369 Coburg Road         | 3 | 2 | Nova Scotia | 431479 | 44.8857 | 63.1005 | 86753 |\n",
       "| Halifax |  679000 | 28 Roxham Close              | 3 | 4 | Nova Scotia | 431479 | 44.8857 | 63.1005 | 86753 |\n",
       "| Halifax |  580000 | 3500 Claremont Street        | 3 | 1 | Nova Scotia | 431479 | 44.8857 | 63.1005 | 86753 |\n",
       "| Halifax |  439900 | 301 60 Walter Havill Drive   | 2 | 2 | Nova Scotia | 431479 | 44.8857 | 63.1005 | 86753 |\n",
       "| Halifax | 6990000 | 1160 Rockcliffe Street       | 5 | 5 | Nova Scotia | 431479 | 44.8857 | 63.1005 | 86753 |\n",
       "| Halifax |  419900 | 212 60 Walter Havill Drive   | 2 | 2 | Nova Scotia | 431479 | 44.8857 | 63.1005 | 86753 |\n",
       "| Halifax |  949900 | 10 Idlewylde Road            | 3 | 1 | Nova Scotia | 431479 | 44.8857 | 63.1005 | 86753 |\n",
       "| Halifax |  592900 | 208 2842-2856 Gottingen      | 2 | 1 | Nova Scotia | 431479 | 44.8857 | 63.1005 | 86753 |\n",
       "\n"
      ],
      "text/plain": [
       "      city    price   address                        number_beds number_baths\n",
       "1     Toronto  779900 #318 -20 SOUTHPORT ST          3           2           \n",
       "2     Toronto  799999 #818 -60 SOUTHPORT ST          3           1           \n",
       "3     Toronto  799900 #714 -859 THE QUEENSWAY        2           2           \n",
       "4     Toronto 1200000 275 MORTIMER AVE               4           2           \n",
       "5     Toronto  668800 #420 -388 RICHMOND ST          1           1           \n",
       "6     Toronto  669900 #817 -151 DAN LECKIE WAY       2           1           \n",
       "7     Toronto  699000 #1107 -438 KING ST W           2           2           \n",
       "8     Toronto  978000 #2708 -20 EDWARD ST            3           2           \n",
       "9     Toronto  958000 #4616 -386 YONGE ST            2           2           \n",
       "10    Toronto 1899000 #2713 -155 YORKVILLE AVE       2           3           \n",
       "11    Toronto  559900 #1113 -80 MILL ST              2           1           \n",
       "12    Toronto  498800 #517 -55 EAST LIBERTY ST       1           1           \n",
       "13    Toronto 1450000 45 BARTLETT AVE                4           2           \n",
       "14    Toronto  650000 ##1902 -1926 LAKE SHORE BLVD W 2           1           \n",
       "15    Toronto  745000 ##812 -103 THE QUEENSWAY       2           2           \n",
       "16    Toronto  784900 #106 -10 WILBY CRES            3           2           \n",
       "17    Toronto  998000 3065 WESTON RD                 4           2           \n",
       "18    Toronto  989900 468 MILVERTON BLVD             4           2           \n",
       "19    Toronto 1099000 #1816 -35 MERCER ST            3           2           \n",
       "20    Toronto  590000 #1720 -36 LISGAR ST W          2           2           \n",
       "21    Toronto  899900 #2 -350 GERRARD ST E           2           2           \n",
       "22    Toronto  585000 #205 -133 WYNFORD DR           2           1           \n",
       "23    Toronto  899000 117 WYNDCLIFF CRES             3           2           \n",
       "24    Toronto  488000 #1213 -195 REDPATH AVE         1           1           \n",
       "25    Toronto  650000 #801 -100 HAYDEN ST            2           2           \n",
       "26    Toronto  498000 #812 -600 FLEET ST             2           1           \n",
       "27    Toronto 1595000 15 LAURIER AVE                 3           3           \n",
       "28    Toronto  718000 #5008 -2221 YONGE ST           1           1           \n",
       "29    Toronto 1350000 #1203 -63 ST CLAIR AVE W       2           2           \n",
       "30    Toronto  999000 #1808 -126 SIMCOE ST           3           2           \n",
       "⋮     ⋮       ⋮       ⋮                              ⋮           ⋮           \n",
       "34902 Halifax  598000 5883 Stanley Street            3           1           \n",
       "34903 Halifax  449000 24 Lynn Road                   3           1           \n",
       "34904 Halifax  599900 6568 Young Street              3           2           \n",
       "34905 Halifax  990000 2092 Beech Street              4           4           \n",
       "34906 Halifax  429900 201 60 Walter Havill Drive     2           2           \n",
       "34907 Halifax  650000 6497 Bayers Road               2           2           \n",
       "34908 Halifax  650000 6487 Bayers Road               4           3           \n",
       "34909 Halifax  599900 204 5355 Russell Street        2           2           \n",
       "34910 Halifax  599000 31 Flatrock Crescent           4           4           \n",
       "34911 Halifax  849999 6284 Allan Street              4           3           \n",
       "34912 Halifax  850000 2659 Connolly Street           2           3           \n",
       "34913 Halifax  599900 629 Cowie Hill Road            3           4           \n",
       "34914 Halifax  895000 1 Rockwood Avenue              4           3           \n",
       "34915 Halifax  679000 6371 Norwood Street            2           1           \n",
       "34916 Halifax  739770 1 0 Old Sambro Road            4           3           \n",
       "34917 Halifax  599000 29 Flatrock Crescent           4           4           \n",
       "34918 Halifax  459900 401 60 Walter Havill Drive     2           2           \n",
       "34919 Halifax 6995000 6944 Armview Avenue            4           5           \n",
       "34920 Halifax  879900 2093 Beech Street              4           3           \n",
       "34921 Halifax  605000 3308 Ashburn Avenue            3           2           \n",
       "34922 Halifax  684900 1389/1391 Purcells Cove Road   4           3           \n",
       "34923 Halifax 1799900 19 Kirk Road                   5           3           \n",
       "34924 Halifax  549000 406 6369 Coburg Road           3           2           \n",
       "34925 Halifax  679000 28 Roxham Close                3           4           \n",
       "34926 Halifax  580000 3500 Claremont Street          3           1           \n",
       "34927 Halifax  439900 301 60 Walter Havill Drive     2           2           \n",
       "34928 Halifax 6990000 1160 Rockcliffe Street         5           5           \n",
       "34929 Halifax  419900 212 60 Walter Havill Drive     2           2           \n",
       "34930 Halifax  949900 10 Idlewylde Road              3           1           \n",
       "34931 Halifax  592900 208 2842-2856 Gottingen        2           1           \n",
       "      province    population latitude longitude median_family_income\n",
       "1     Ontario     5647656    43.7417  -79.3733  97000               \n",
       "2     Ontario     5647656    43.7417  -79.3733  97000               \n",
       "3     Ontario     5647656    43.7417  -79.3733  97000               \n",
       "4     Ontario     5647656    43.7417  -79.3733  97000               \n",
       "5     Ontario     5647656    43.7417  -79.3733  97000               \n",
       "6     Ontario     5647656    43.7417  -79.3733  97000               \n",
       "7     Ontario     5647656    43.7417  -79.3733  97000               \n",
       "8     Ontario     5647656    43.7417  -79.3733  97000               \n",
       "9     Ontario     5647656    43.7417  -79.3733  97000               \n",
       "10    Ontario     5647656    43.7417  -79.3733  97000               \n",
       "11    Ontario     5647656    43.7417  -79.3733  97000               \n",
       "12    Ontario     5647656    43.7417  -79.3733  97000               \n",
       "13    Ontario     5647656    43.7417  -79.3733  97000               \n",
       "14    Ontario     5647656    43.7417  -79.3733  97000               \n",
       "15    Ontario     5647656    43.7417  -79.3733  97000               \n",
       "16    Ontario     5647656    43.7417  -79.3733  97000               \n",
       "17    Ontario     5647656    43.7417  -79.3733  97000               \n",
       "18    Ontario     5647656    43.7417  -79.3733  97000               \n",
       "19    Ontario     5647656    43.7417  -79.3733  97000               \n",
       "20    Ontario     5647656    43.7417  -79.3733  97000               \n",
       "21    Ontario     5647656    43.7417  -79.3733  97000               \n",
       "22    Ontario     5647656    43.7417  -79.3733  97000               \n",
       "23    Ontario     5647656    43.7417  -79.3733  97000               \n",
       "24    Ontario     5647656    43.7417  -79.3733  97000               \n",
       "25    Ontario     5647656    43.7417  -79.3733  97000               \n",
       "26    Ontario     5647656    43.7417  -79.3733  97000               \n",
       "27    Ontario     5647656    43.7417  -79.3733  97000               \n",
       "28    Ontario     5647656    43.7417  -79.3733  97000               \n",
       "29    Ontario     5647656    43.7417  -79.3733  97000               \n",
       "30    Ontario     5647656    43.7417  -79.3733  97000               \n",
       "⋮     ⋮           ⋮          ⋮        ⋮         ⋮                   \n",
       "34902 Nova Scotia 431479     44.8857  63.1005   86753               \n",
       "34903 Nova Scotia 431479     44.8857  63.1005   86753               \n",
       "34904 Nova Scotia 431479     44.8857  63.1005   86753               \n",
       "34905 Nova Scotia 431479     44.8857  63.1005   86753               \n",
       "34906 Nova Scotia 431479     44.8857  63.1005   86753               \n",
       "34907 Nova Scotia 431479     44.8857  63.1005   86753               \n",
       "34908 Nova Scotia 431479     44.8857  63.1005   86753               \n",
       "34909 Nova Scotia 431479     44.8857  63.1005   86753               \n",
       "34910 Nova Scotia 431479     44.8857  63.1005   86753               \n",
       "34911 Nova Scotia 431479     44.8857  63.1005   86753               \n",
       "34912 Nova Scotia 431479     44.8857  63.1005   86753               \n",
       "34913 Nova Scotia 431479     44.8857  63.1005   86753               \n",
       "34914 Nova Scotia 431479     44.8857  63.1005   86753               \n",
       "34915 Nova Scotia 431479     44.8857  63.1005   86753               \n",
       "34916 Nova Scotia 431479     44.8857  63.1005   86753               \n",
       "34917 Nova Scotia 431479     44.8857  63.1005   86753               \n",
       "34918 Nova Scotia 431479     44.8857  63.1005   86753               \n",
       "34919 Nova Scotia 431479     44.8857  63.1005   86753               \n",
       "34920 Nova Scotia 431479     44.8857  63.1005   86753               \n",
       "34921 Nova Scotia 431479     44.8857  63.1005   86753               \n",
       "34922 Nova Scotia 431479     44.8857  63.1005   86753               \n",
       "34923 Nova Scotia 431479     44.8857  63.1005   86753               \n",
       "34924 Nova Scotia 431479     44.8857  63.1005   86753               \n",
       "34925 Nova Scotia 431479     44.8857  63.1005   86753               \n",
       "34926 Nova Scotia 431479     44.8857  63.1005   86753               \n",
       "34927 Nova Scotia 431479     44.8857  63.1005   86753               \n",
       "34928 Nova Scotia 431479     44.8857  63.1005   86753               \n",
       "34929 Nova Scotia 431479     44.8857  63.1005   86753               \n",
       "34930 Nova Scotia 431479     44.8857  63.1005   86753               \n",
       "34931 Nova Scotia 431479     44.8857  63.1005   86753               "
      ]
     },
     "metadata": {},
     "output_type": "display_data"
    }
   ],
   "source": [
    "url <- \"https://raw.githubusercontent.com/slappyslop/dsci-100-002-033/main/data/HouseListings-Top45Cities-10292023-kaggle.csv\"\n",
    "download.file(url, \"data/HouseListings-Top45Cities-10292023-kaggle.csv\")\n",
    "housing_raw <- read_csv(\"data/HouseListings-Top45Cities-10292023-kaggle.csv\") |> clean_names()\n",
    "housing_filter <- housing_raw |> filter(number_beds > 0 & number_baths > 0)\n",
    "housing_clean <- housing_filter |> filter(!(city %in% c(\"Saskatoon\", \"Winnipeg\", \"Nanaimo\", \"Regina\") & province == \"Ontario\"))\n",
    "housing_clean"
   ]
  },
  {
   "cell_type": "markdown",
   "id": "79579139-6e9e-40f1-8ba4-c8cd19dbcecf",
   "metadata": {},
   "source": [
    "Then we split the cleaned dataset into training set and testing set."
   ]
  },
  {
   "cell_type": "code",
   "execution_count": 5,
   "id": "66b4d696-aad1-4411-a49b-049c611e0873",
   "metadata": {},
   "outputs": [],
   "source": [
    "set.seed(1234)\n",
    "housing_split <- initial_split(housing_clean, prop = 0.75, strata = price)\n",
    "training <- training(housing_split)\n",
    "testing <- testing(housing_split)"
   ]
  },
  {
   "cell_type": "code",
   "execution_count": 4,
   "id": "9130f5ef-27c7-4898-a898-5450cf36782e",
   "metadata": {},
   "outputs": [],
   "source": [
    "options(repr.plot.height = 4, repr.plot.width = 4)\n",
    "bed_plot <- training|>\n",
    "            ggplot(aes(x = number_beds, y = price))+\n",
    "            geom_point(alpha=0.4)+\n",
    "            labs(x = \"Number of Beds\", y = \"Price(CAD)\", title = \"The Relationship between Number of Beds and Price\")+\n",
    "            xlim(c(0, 30))\n",
    "bath_plot <- training|>\n",
    "            ggplot(aes(x = number_baths, y = price))+\n",
    "            geom_point(alpha=0.4)+\n",
    "            labs(x = \"Number of Baths\", y = \"Price(CAD)\", title = \"The Relationship between Number of Bath and Price\")+\n",
    "            xlim(c(0, 20))\n",
    "income_plot <- training|>\n",
    "            ggplot(aes(x = median_family_income, y = price))+\n",
    "            geom_point(alpha=0.4)+\n",
    "            labs(x = \"Median Family Income\", y = \"Price(CAD)\", title = \"The Relationship between Median Family Income and Price\")"
   ]
  },
  {
   "cell_type": "code",
   "execution_count": null,
   "id": "44992d53-8da7-4a8d-9528-9180dd3938ff",
   "metadata": {},
   "outputs": [
    {
     "name": "stderr",
     "output_type": "stream",
     "text": [
      "Warning message:\n",
      "“\u001b[1m\u001b[22mRemoved 5 rows containing missing values or values outside the scale range\n",
      "(`geom_point()`).”\n",
      "Warning message:\n",
      "“\u001b[1m\u001b[22mRemoved 4 rows containing missing values or values outside the scale range\n",
      "(`geom_point()`).”\n"
     ]
    }
   ],
   "source": [
    "options(repr.plot.height = 6, repr.plot.width = 4)\n",
    "final_plot <- grid.arrange (bed_plot, bath_plot, income_plot, nrow = 3)"
   ]
  },
  {
   "cell_type": "markdown",
   "id": "d21170c0-a035-4640-9e0c-c79f71e34cb8",
   "metadata": {},
   "source": [
    "### 1. Linear Regression"
   ]
  },
  {
   "cell_type": "markdown",
   "id": "914146ce-6306-45ac-bba5-dbc76547dbad",
   "metadata": {},
   "source": [
    "We first attempted to make a linear regression of price against one of the variables, we also made our own predictors which included the ratio of beds to bathrooms and sum of beds and bathrooms. In order to see the feasibility of this, we used a pairplot through the following code. Unfortunately, this code makes the kernel crash, and so this was done using RStudio on my (Shravan) local machine"
   ]
  },
  {
   "cell_type": "code",
   "execution_count": 6,
   "id": "eace67e5-6c57-418f-ad76-dc9ea52039af",
   "metadata": {},
   "outputs": [],
   "source": [
    "training <- training |> select(-longitude, -latitude, -address, -city, -province)\n",
    "testing <- testing |> select(-longitude, -latitude, -address, -city, -province)\n",
    "\n"
   ]
  },
  {
   "cell_type": "markdown",
   "id": "1cc11d72-89ed-4028-8a11-619b6f87c970",
   "metadata": {},
   "source": []
  },
  {
   "cell_type": "code",
   "execution_count": 7,
   "id": "1c278240-7477-4b8f-9b70-1bd7a888431c",
   "metadata": {},
   "outputs": [],
   "source": [
    "training_full <- training |> mutate(sum = number_beds + number_baths, ratio = number_beds/number_baths,)\n",
    "testing_full <- testing |> mutate(sum = number_beds + number_baths, ratio = number_beds/number_baths, )\n",
    "\n",
    "\n"
   ]
  },
  {
   "cell_type": "markdown",
   "id": "12952d05-d70f-4b82-adca-cbe46a4f7bc7",
   "metadata": {},
   "source": [
    "## MAKES THE KERNEL CRASH\n",
    "price_pairplot <- training_full|> \n",
    "  ggpairs(\n",
    "    lower = list(continuous = wrap('points', alpha = 0.4)),\n",
    "    diag = list(continuous = \"barDiag\")\n",
    "  ) +\n",
    "  theme(text = element_text(size = 20))\n",
    "\"\n",
    "price_pairplot"
   ]
  },
  {
   "cell_type": "markdown",
   "id": "896017ff-45af-448f-bf41-5f58faa94519",
   "metadata": {},
   "source": [
    "We discovered that the correlation coefficient was highest with `sum` and `number_baths` being the best linear predictors of price (0.423 and 0.471). The only other predictor that was non-colinear to `number_baths` was `median_family_income`, howeveer this had a coefficient of 0.053, and so we decided that for the linear regression the only predictor we would use was `number_baths`."
   ]
  },
  {
   "cell_type": "code",
   "execution_count": null,
   "id": "fe7e7372-a930-45a5-a542-ca6b9ab9c69b",
   "metadata": {},
   "outputs": [],
   "source": [
    "lm_spec <- linear_reg() |> set_engine(\"lm\") |> set_mode(\"regression\")\n",
    "lm_recipe <- recipe(price ~ number_baths, data = training_full)\n",
    "lm_fit <-  workflow() |> add_recipe(lm_recipe) |> \n",
    "  add_model(lm_spec) |> \n",
    "  fit(data = training_full)\n",
    "lm_fit\n"
   ]
  },
  {
   "cell_type": "code",
   "execution_count": null,
   "id": "b92f788b-f2bb-4ad0-a7a2-1957cee80347",
   "metadata": {},
   "outputs": [],
   "source": [
    "lm_test_results <- lm_fit |>\n",
    "  predict(testing_full) |>\n",
    "  bind_cols(testing_full) |>\n",
    "  metrics(truth = price, estimate = .pred)\n",
    "lm_test_results"
   ]
  },
  {
   "cell_type": "markdown",
   "id": "8c1d4423-1b49-41d8-a655-f754f1e7f965",
   "metadata": {},
   "source": [
    "This approach gives us an RMSE value of `809292.1`."
   ]
  },
  {
   "cell_type": "code",
   "execution_count": null,
   "id": "11aff456-b20b-4d71-abf3-9b99a89976cc",
   "metadata": {},
   "outputs": [],
   "source": [
    "lm_plot <- ggplot(testing_full, aes(x = number_baths , y = price)) + \n",
    "  geom_point()+ \n",
    "  geom_abline(intercept = -17159, slope =  374799 ,linetype = \"dashed\", color = \"blue\", size = 1) +\n",
    "  labs(y = \"Home price (dollars)\", x = \"Number of baths in home\") +\n",
    "  ggtitle(\"Graph 1. Regression Visualization\")\n",
    "lm_plot"
   ]
  },
  {
   "cell_type": "markdown",
   "id": "fc126304-2dc3-4194-b3f4-abf3713faad0",
   "metadata": {},
   "source": [
    "A closer look at where the majority of the data is"
   ]
  },
  {
   "cell_type": "code",
   "execution_count": null,
   "id": "0e4080b7-a1e4-4ca9-873c-69ed4cb30a10",
   "metadata": {},
   "outputs": [],
   "source": [
    "lm_plot_2 <- ggplot(testing_full, aes(x = number_baths , y = price)) + \n",
    "  geom_point()+ \n",
    "  geom_abline(intercept = -17159, slope =  374799 ,linetype = \"dashed\", color = \"blue\", size = 1) +\n",
    "  labs(y = \"Home price (dollars)\", x = \"Number of baths in home\") + xlim(0, 15)+\n",
    "  ggtitle(\"Graph 1. Regression Visualization\")\n",
    "\n",
    "lm_plot_2"
   ]
  },
  {
   "cell_type": "markdown",
   "id": "25585a17-d1e2-4e5b-8b60-fb3d87f333af",
   "metadata": {},
   "source": [
    "### 2. KNN  Regression"
   ]
  },
  {
   "cell_type": "markdown",
   "id": "cb5bda87-0d8c-4945-9df4-0fae8b341c9e",
   "metadata": {},
   "source": [
    "We then performed kNN regression model to visualize the correlation between the housing price and the number of beds and baths in each household. We chose the neighbourhood from 1 to 100 with an interval of 10 to better see the difference in the RMSE mean values. \n",
    "We first set the recipe to have the price predicted from the training data by the median family income, number of beds, and number of baths. We then set the model as regression and created a workflow with the chosen number of neighbours."
   ]
  },
  {
   "cell_type": "code",
   "execution_count": 8,
   "id": "5d7c5bef-862d-4be3-857d-04d6d4a82534",
   "metadata": {},
   "outputs": [
    {
     "data": {
      "text/html": [
       "<table class=\"dataframe\">\n",
       "<caption>A tibble: 6 × 7</caption>\n",
       "<thead>\n",
       "\t<tr><th scope=col>price</th><th scope=col>number_beds</th><th scope=col>number_baths</th><th scope=col>population</th><th scope=col>median_family_income</th><th scope=col>sum</th><th scope=col>ratio</th></tr>\n",
       "\t<tr><th scope=col>&lt;dbl&gt;</th><th scope=col>&lt;dbl&gt;</th><th scope=col>&lt;dbl&gt;</th><th scope=col>&lt;dbl&gt;</th><th scope=col>&lt;dbl&gt;</th><th scope=col>&lt;dbl&gt;</th><th scope=col>&lt;dbl&gt;</th></tr>\n",
       "</thead>\n",
       "<tbody>\n",
       "\t<tr><td>439000</td><td>2</td><td>1</td><td>5647656</td><td>97000</td><td>3</td><td>2.0</td></tr>\n",
       "\t<tr><td>438000</td><td>2</td><td>1</td><td>5647656</td><td>97000</td><td>3</td><td>2.0</td></tr>\n",
       "\t<tr><td>448800</td><td>3</td><td>2</td><td>5647656</td><td>97000</td><td>5</td><td>1.5</td></tr>\n",
       "\t<tr><td>468500</td><td>1</td><td>1</td><td>5647656</td><td>97000</td><td>2</td><td>1.0</td></tr>\n",
       "\t<tr><td> 45000</td><td>3</td><td>5</td><td>5647656</td><td>97000</td><td>8</td><td>0.6</td></tr>\n",
       "\t<tr><td>399000</td><td>1</td><td>1</td><td>5647656</td><td>97000</td><td>2</td><td>1.0</td></tr>\n",
       "</tbody>\n",
       "</table>\n"
      ],
      "text/latex": [
       "A tibble: 6 × 7\n",
       "\\begin{tabular}{lllllll}\n",
       " price & number\\_beds & number\\_baths & population & median\\_family\\_income & sum & ratio\\\\\n",
       " <dbl> & <dbl> & <dbl> & <dbl> & <dbl> & <dbl> & <dbl>\\\\\n",
       "\\hline\n",
       "\t 439000 & 2 & 1 & 5647656 & 97000 & 3 & 2.0\\\\\n",
       "\t 438000 & 2 & 1 & 5647656 & 97000 & 3 & 2.0\\\\\n",
       "\t 448800 & 3 & 2 & 5647656 & 97000 & 5 & 1.5\\\\\n",
       "\t 468500 & 1 & 1 & 5647656 & 97000 & 2 & 1.0\\\\\n",
       "\t  45000 & 3 & 5 & 5647656 & 97000 & 8 & 0.6\\\\\n",
       "\t 399000 & 1 & 1 & 5647656 & 97000 & 2 & 1.0\\\\\n",
       "\\end{tabular}\n"
      ],
      "text/markdown": [
       "\n",
       "A tibble: 6 × 7\n",
       "\n",
       "| price &lt;dbl&gt; | number_beds &lt;dbl&gt; | number_baths &lt;dbl&gt; | population &lt;dbl&gt; | median_family_income &lt;dbl&gt; | sum &lt;dbl&gt; | ratio &lt;dbl&gt; |\n",
       "|---|---|---|---|---|---|---|\n",
       "| 439000 | 2 | 1 | 5647656 | 97000 | 3 | 2.0 |\n",
       "| 438000 | 2 | 1 | 5647656 | 97000 | 3 | 2.0 |\n",
       "| 448800 | 3 | 2 | 5647656 | 97000 | 5 | 1.5 |\n",
       "| 468500 | 1 | 1 | 5647656 | 97000 | 2 | 1.0 |\n",
       "|  45000 | 3 | 5 | 5647656 | 97000 | 8 | 0.6 |\n",
       "| 399000 | 1 | 1 | 5647656 | 97000 | 2 | 1.0 |\n",
       "\n"
      ],
      "text/plain": [
       "  price  number_beds number_baths population median_family_income sum ratio\n",
       "1 439000 2           1            5647656    97000                3   2.0  \n",
       "2 438000 2           1            5647656    97000                3   2.0  \n",
       "3 448800 3           2            5647656    97000                5   1.5  \n",
       "4 468500 1           1            5647656    97000                2   1.0  \n",
       "5  45000 3           5            5647656    97000                8   0.6  \n",
       "6 399000 1           1            5647656    97000                2   1.0  "
      ]
     },
     "metadata": {},
     "output_type": "display_data"
    },
    {
     "data": {
      "text/html": [
       "<table class=\"dataframe\">\n",
       "<caption>A tibble: 6 × 7</caption>\n",
       "<thead>\n",
       "\t<tr><th scope=col>price</th><th scope=col>number_beds</th><th scope=col>number_baths</th><th scope=col>population</th><th scope=col>median_family_income</th><th scope=col>sum</th><th scope=col>ratio</th></tr>\n",
       "\t<tr><th scope=col>&lt;dbl&gt;</th><th scope=col>&lt;dbl&gt;</th><th scope=col>&lt;dbl&gt;</th><th scope=col>&lt;dbl&gt;</th><th scope=col>&lt;dbl&gt;</th><th scope=col>&lt;dbl&gt;</th><th scope=col>&lt;dbl&gt;</th></tr>\n",
       "</thead>\n",
       "<tbody>\n",
       "\t<tr><td>1750000</td><td>3</td><td>4</td><td>733156</td><td>76500</td><td> 7</td><td>0.750000</td></tr>\n",
       "\t<tr><td>1250000</td><td>4</td><td>3</td><td>431479</td><td>86753</td><td> 7</td><td>1.333333</td></tr>\n",
       "\t<tr><td>1500000</td><td>3</td><td>4</td><td>431479</td><td>86753</td><td> 7</td><td>0.750000</td></tr>\n",
       "\t<tr><td>1249900</td><td>9</td><td>3</td><td>431479</td><td>86753</td><td>12</td><td>3.000000</td></tr>\n",
       "\t<tr><td>6995000</td><td>4</td><td>5</td><td>431479</td><td>86753</td><td> 9</td><td>0.800000</td></tr>\n",
       "\t<tr><td>1799900</td><td>5</td><td>3</td><td>431479</td><td>86753</td><td> 8</td><td>1.666667</td></tr>\n",
       "</tbody>\n",
       "</table>\n"
      ],
      "text/latex": [
       "A tibble: 6 × 7\n",
       "\\begin{tabular}{lllllll}\n",
       " price & number\\_beds & number\\_baths & population & median\\_family\\_income & sum & ratio\\\\\n",
       " <dbl> & <dbl> & <dbl> & <dbl> & <dbl> & <dbl> & <dbl>\\\\\n",
       "\\hline\n",
       "\t 1750000 & 3 & 4 & 733156 & 76500 &  7 & 0.750000\\\\\n",
       "\t 1250000 & 4 & 3 & 431479 & 86753 &  7 & 1.333333\\\\\n",
       "\t 1500000 & 3 & 4 & 431479 & 86753 &  7 & 0.750000\\\\\n",
       "\t 1249900 & 9 & 3 & 431479 & 86753 & 12 & 3.000000\\\\\n",
       "\t 6995000 & 4 & 5 & 431479 & 86753 &  9 & 0.800000\\\\\n",
       "\t 1799900 & 5 & 3 & 431479 & 86753 &  8 & 1.666667\\\\\n",
       "\\end{tabular}\n"
      ],
      "text/markdown": [
       "\n",
       "A tibble: 6 × 7\n",
       "\n",
       "| price &lt;dbl&gt; | number_beds &lt;dbl&gt; | number_baths &lt;dbl&gt; | population &lt;dbl&gt; | median_family_income &lt;dbl&gt; | sum &lt;dbl&gt; | ratio &lt;dbl&gt; |\n",
       "|---|---|---|---|---|---|---|\n",
       "| 1750000 | 3 | 4 | 733156 | 76500 |  7 | 0.750000 |\n",
       "| 1250000 | 4 | 3 | 431479 | 86753 |  7 | 1.333333 |\n",
       "| 1500000 | 3 | 4 | 431479 | 86753 |  7 | 0.750000 |\n",
       "| 1249900 | 9 | 3 | 431479 | 86753 | 12 | 3.000000 |\n",
       "| 6995000 | 4 | 5 | 431479 | 86753 |  9 | 0.800000 |\n",
       "| 1799900 | 5 | 3 | 431479 | 86753 |  8 | 1.666667 |\n",
       "\n"
      ],
      "text/plain": [
       "  price   number_beds number_baths population median_family_income sum ratio   \n",
       "1 1750000 3           4            733156     76500                 7  0.750000\n",
       "2 1250000 4           3            431479     86753                 7  1.333333\n",
       "3 1500000 3           4            431479     86753                 7  0.750000\n",
       "4 1249900 9           3            431479     86753                12  3.000000\n",
       "5 6995000 4           5            431479     86753                 9  0.800000\n",
       "6 1799900 5           3            431479     86753                 8  1.666667"
      ]
     },
     "metadata": {},
     "output_type": "display_data"
    }
   ],
   "source": [
    "head(training_full)\n",
    "tail(training_full)"
   ]
  },
  {
   "cell_type": "code",
   "execution_count": null,
   "id": "e5d710a4-1431-4a03-9a65-c824e095b7e8",
   "metadata": {},
   "outputs": [],
   "source": [
    "set.seed(1234)\n",
    "housing_recipe <- recipe(price ~ ., data = training_full) |>\n",
    "  step_scale(all_predictors()) |>\n",
    "  step_center(all_predictors())\n",
    "housing_recipe\n",
    "housing_spec <- nearest_neighbor(weight_func = \"rectangular\", neighbors = tune()) |>\n",
    "  set_engine(\"kknn\") |>\n",
    "  set_mode(\"regression\")\n",
    "\n",
    "housing_vfold <- vfold_cv(training_full, v = 5, strata = price)\n",
    "\n",
    "housing_workflow <- workflow() |>\n",
    "  add_recipe(housing_recipe) |>\n",
    "  add_model(housing_spec)\n",
    "\n",
    "tuned_housing <- housing_workflow |>\n",
    "  tune_grid(resamples = housing_vfold, grid = tibble(neighbors = seq(from = 20, to = 41, by = 2))) |>\n",
    "  collect_metrics()|>\n",
    "  filter(.metric == \"rmse\")\n",
    "\n",
    "\n",
    "tuned_housing_2 <- housing_workflow |>\n",
    "  tune_grid(resamples = housing_vfold, grid = tibble(neighbors = seq(from = 20, to = 41, by = 2))) |>\n",
    "  collect_metrics()|>\n",
    "  filter(.metric == \"rmse\")\n",
    "\n",
    "tuned_housing_2"
   ]
  },
  {
   "cell_type": "code",
   "execution_count": null,
   "id": "28ac2348-bdfa-4092-9507-a3ef13ea966a",
   "metadata": {},
   "outputs": [],
   "source": [
    "ggplot(tuned_housing, aes(x = neighbors, y = mean)) + geom_point() + geom_line() +\n",
    "ggtitle(\"Graph 2. Relationship between mean price and number of neighbours\")"
   ]
  },
  {
   "cell_type": "markdown",
   "id": "b1d88beb-d74b-4295-85fa-c0c90a3a1a02",
   "metadata": {},
   "source": [
    "We want to take a closer look around 30"
   ]
  },
  {
   "cell_type": "code",
   "execution_count": null,
   "id": "b211955c-a640-4839-bba8-dd5556f0a140",
   "metadata": {},
   "outputs": [],
   "source": [
    "tuned_housing_2 <- housing_workflow |>\n",
    "  tune_grid(resamples = housing_vfold, grid = tibble(neighbors = seq(from = 20, to = 41, by = 2))) |>\n",
    "  collect_metrics()|>\n",
    "  filter(.metric == \"rmse\")"
   ]
  },
  {
   "cell_type": "code",
   "execution_count": null,
   "id": "b09adb58-b9e4-4b6d-927e-a0b5aaadcce7",
   "metadata": {},
   "outputs": [],
   "source": [
    "ggplot(tuned_housing_2, aes(x = neighbors, y = mean)) + geom_point() + geom_line() +\n",
    "ggtitle(\"Graph 3. Relationship between mean price and number of neighbours\")"
   ]
  },
  {
   "cell_type": "code",
   "execution_count": null,
   "id": "97d5aed2-b7ab-455f-b537-6fc3d229937f",
   "metadata": {},
   "outputs": [],
   "source": [
    "housing_best_spec <- nearest_neighbor(weight_func = \"rectangular\", neighbors = 30) |>\n",
    "  set_engine(\"kknn\") |>\n",
    "  set_mode(\"regression\")\n",
    "\n",
    "housing_fit <- workflow() |>\n",
    "  add_recipe(housing_recipe) |>\n",
    "  add_model(housing_best_spec) |>\n",
    "  fit(data = training_full)\n",
    "\n",
    "housing_summary <- housing_fit |>\n",
    "  predict(testing_full) |>\n",
    "  bind_cols(testing_full) |>\n",
    "  metrics(truth = price, estimate = .pred) |>\n",
    "  filter(.metric == 'rmse')\n",
    "housing_summary"
   ]
  },
  {
   "cell_type": "markdown",
   "id": "7326fce0-3cef-45e3-aa42-e8a805f66010",
   "metadata": {},
   "source": [
    "We can see a very clear issue here. The way the kNN algorithm works is that it simply finds the city (`median_family_income`), `number_beds` and `number_baths` and takes the average of a number of similar listings based on our value of k. Of course, a 2 bedroom in Vancouver in a downtown skyscraper would have a very different price to a 2 bedroom in East Van. Our dataset does not account for this and this places a large factor in the large errors."
   ]
  },
  {
   "cell_type": "markdown",
   "id": "b666149d-fa1f-420a-881d-4a261ebc089f",
   "metadata": {},
   "source": []
  },
  {
   "cell_type": "code",
   "execution_count": null,
   "id": "11e74ab9-6893-4273-8739-2d0ef09e1fdb",
   "metadata": {},
   "outputs": [],
   "source": []
  },
  {
   "cell_type": "markdown",
   "id": "b6cca953-6aa5-43a2-927d-10763bafc879",
   "metadata": {},
   "source": [
    "## Discussion"
   ]
  },
  {
   "cell_type": "markdown",
   "id": "5cd61bd0-2366-45ea-a6eb-d62602741f58",
   "metadata": {},
   "source": [
    "The results showed that the kNN model would be the best model used to predict household value since it accounts for all predictors that have a direct effect on the price, such as using the family income to find the best house with a reasonable number of beds and baths.\n"
   ]
  }
 ],
 "metadata": {
  "kernelspec": {
   "display_name": "R",
   "language": "R",
   "name": "ir"
  },
  "language_info": {
   "codemirror_mode": "r",
   "file_extension": ".r",
   "mimetype": "text/x-r-source",
   "name": "R",
   "pygments_lexer": "r",
   "version": "4.3.1"
  }
 },
 "nbformat": 4,
 "nbformat_minor": 5
}
