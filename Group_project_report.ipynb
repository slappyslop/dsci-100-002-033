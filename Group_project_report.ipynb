{
 "cells": [
  {
   "cell_type": "markdown",
   "id": "d1572879-24af-44f9-b5e5-8e51a81f81df",
   "metadata": {},
   "source": [
    "# Group Project Report\n"
   ]
  },
  {
   "cell_type": "markdown",
   "id": "d6731221-80fe-41de-905b-d998a5e480de",
   "metadata": {},
   "source": [
    "## Introduction"
   ]
  },
  {
   "cell_type": "markdown",
   "id": "b6e055af-c5a6-475f-ab78-a377878d48d6",
   "metadata": {},
   "source": [
    "As first-year students seeking an affordable place to stay during the school year, it is important to get some predicted insights on the housing price to have a better overview of the living expenses not just in Vancouver but also in other Canadian cities, and the rental price can be inferred accordingly. Indeed, the higher costs associated with homeownership impact  rental markets as  landlords tend to increase their rents to make payments for mortgages on their rental properties (Hirota et al., 2020). Not only does the prediction of the house price help students to choose which province they should live in and study, but it also helps people to estimate their finances based on the future price range, and the trend of housing prices at a certain location. Considering this necessity, this study uses two different models, k-Nearest Neighbours (kNN) and linear regression, and aims to discover which model will provide a better prediction of housing prices using the housing listing dataset from the top 45 most populous cities in Canada. The kNN regression model is hypothesized to be a better tool for predicting housing prices than the linear regression model. \n",
    "\n",
    "KNN regression is a local estimator using its neighbourhood, a non-parametric model, and it produces a flexible line based on the distribution of data. Linear regression, on the other hand, is a global estimator that uses the linear relationship between variables and produces a straight line that illustrates the linear relationship between predictors and responses. The model is considered a good model if its Root Mean Squared Error (RMSE) is lower than the other model, making it the more suitable model to predict housing prices."
   ]
  },
  {
   "cell_type": "markdown",
   "id": "977af4db-8afb-43a2-b4b3-3ac7ed256fe8",
   "metadata": {},
   "source": [
    "## Literature Review"
   ]
  },
  {
   "cell_type": "markdown",
   "id": "c6a8284d-c32f-4f7c-b526-9b68a8c44a4b",
   "metadata": {},
   "source": [
    "### 1. The Relationship between Purchase Price and Rent"
   ]
  },
  {
   "cell_type": "markdown",
   "id": "1f77d429-46ba-484e-adb5-5f44893c2ce8",
   "metadata": {},
   "source": [
    "As stated in economics theory, the asset price is \"the sum of the discounted value of expected future cash flow\"(Hirota & Suzuki-Löffelholz & Udagawa, 2019). Therefore, when we discuss the value of a house, we need to examine its rents since they are the \"discounted value\" we referred to before. This theory, reveals that the purchase price is not a determinant of the future rent. However, in Hirota, Suzuki-Löffelholz, and Udagawa's study, they applied behavioral economics theory to unfold the relationship between the purchase price and the rent. They hypothesized that the sunk cost of the property owner, which is the purchase price, does not affect the rent they will offer in the future, but it later turned out that there is an underlying correlation between those: even if the rent and the purchase price is not directly related with the rent offered, the property owners is likely to charge a higher rent if the purchase price is high (2019)."
   ]
  },
  {
   "cell_type": "markdown",
   "id": "95899c57-5972-43f9-82da-9d3d53504b0b",
   "metadata": {},
   "source": [
    "### 2. Quality of Life"
   ]
  },
  {
   "cell_type": "markdown",
   "id": "f10c395f-0a7e-4d1b-9fd5-0ae74898df4d",
   "metadata": {},
   "source": [
    "Dimitrios and Sfakianaki argue that \"quality of life\" significantly impacts rental prices, which in turn influence housing costs (2014). They explain that a high quality of life, which includes factors like clean water and safe neighborhoods, is indeed a type of goods(2019). It is true that every individual has to pay for traditional economics goods, such as food, shelter, and clothing. However, \"tangible goods\" also appear in the market, including clean water and safe neighborhoods (2014). The consumption of tangible goods implies that the consumer is pursuing a higher quality of living."
   ]
  },
  {
   "cell_type": "markdown",
   "id": "2e190dc3-cf86-4008-80bd-b15597eb169d",
   "metadata": {},
   "source": [
    "## Methods & Results"
   ]
  },
  {
   "cell_type": "code",
   "execution_count": 1,
   "id": "0877ff6e-17d1-4086-9ddb-abd55b4e303e",
   "metadata": {},
   "outputs": [
    {
     "name": "stderr",
     "output_type": "stream",
     "text": [
      "Warning message:\n",
      "“package ‘ggplot2’ was built under R version 4.3.2”\n",
      "── \u001b[1mAttaching packages\u001b[22m ────────────────────────────────────── tidymodels 1.1.1 ──\n",
      "\n",
      "\u001b[32m✔\u001b[39m \u001b[34mbroom       \u001b[39m 1.0.5     \u001b[32m✔\u001b[39m \u001b[34mrsample     \u001b[39m 1.2.0\n",
      "\u001b[32m✔\u001b[39m \u001b[34mdials       \u001b[39m 1.2.0     \u001b[32m✔\u001b[39m \u001b[34mtibble      \u001b[39m 3.2.1\n",
      "\u001b[32m✔\u001b[39m \u001b[34mdplyr       \u001b[39m 1.1.3     \u001b[32m✔\u001b[39m \u001b[34mtidyr       \u001b[39m 1.3.0\n",
      "\u001b[32m✔\u001b[39m \u001b[34minfer       \u001b[39m 1.0.5     \u001b[32m✔\u001b[39m \u001b[34mtune        \u001b[39m 1.1.2\n",
      "\u001b[32m✔\u001b[39m \u001b[34mmodeldata   \u001b[39m 1.2.0     \u001b[32m✔\u001b[39m \u001b[34mworkflows   \u001b[39m 1.1.3\n",
      "\u001b[32m✔\u001b[39m \u001b[34mparsnip     \u001b[39m 1.1.1     \u001b[32m✔\u001b[39m \u001b[34mworkflowsets\u001b[39m 1.0.1\n",
      "\u001b[32m✔\u001b[39m \u001b[34mpurrr       \u001b[39m 1.0.2     \u001b[32m✔\u001b[39m \u001b[34myardstick   \u001b[39m 1.2.0\n",
      "\u001b[32m✔\u001b[39m \u001b[34mrecipes     \u001b[39m 1.0.8     \n",
      "\n",
      "── \u001b[1mConflicts\u001b[22m ───────────────────────────────────────── tidymodels_conflicts() ──\n",
      "\u001b[31m✖\u001b[39m \u001b[34mpurrr\u001b[39m::\u001b[32mdiscard()\u001b[39m masks \u001b[34mscales\u001b[39m::discard()\n",
      "\u001b[31m✖\u001b[39m \u001b[34mdplyr\u001b[39m::\u001b[32mfilter()\u001b[39m  masks \u001b[34mstats\u001b[39m::filter()\n",
      "\u001b[31m✖\u001b[39m \u001b[34mdplyr\u001b[39m::\u001b[32mlag()\u001b[39m     masks \u001b[34mstats\u001b[39m::lag()\n",
      "\u001b[31m✖\u001b[39m \u001b[34mrecipes\u001b[39m::\u001b[32mstep()\u001b[39m  masks \u001b[34mstats\u001b[39m::step()\n",
      "\u001b[34m•\u001b[39m Search for functions across packages at \u001b[32mhttps://www.tidymodels.org/find/\u001b[39m\n",
      "\n",
      "── \u001b[1mAttaching core tidyverse packages\u001b[22m ──────────────────────── tidyverse 2.0.0 ──\n",
      "\u001b[32m✔\u001b[39m \u001b[34mforcats  \u001b[39m 1.0.0     \u001b[32m✔\u001b[39m \u001b[34mreadr    \u001b[39m 2.1.4\n",
      "\u001b[32m✔\u001b[39m \u001b[34mlubridate\u001b[39m 1.9.2     \u001b[32m✔\u001b[39m \u001b[34mstringr  \u001b[39m 1.5.0\n",
      "── \u001b[1mConflicts\u001b[22m ────────────────────────────────────────── tidyverse_conflicts() ──\n",
      "\u001b[31m✖\u001b[39m \u001b[34mreadr\u001b[39m::\u001b[32mcol_factor()\u001b[39m masks \u001b[34mscales\u001b[39m::col_factor()\n",
      "\u001b[31m✖\u001b[39m \u001b[34mpurrr\u001b[39m::\u001b[32mdiscard()\u001b[39m    masks \u001b[34mscales\u001b[39m::discard()\n",
      "\u001b[31m✖\u001b[39m \u001b[34mdplyr\u001b[39m::\u001b[32mfilter()\u001b[39m     masks \u001b[34mstats\u001b[39m::filter()\n",
      "\u001b[31m✖\u001b[39m \u001b[34mstringr\u001b[39m::\u001b[32mfixed()\u001b[39m    masks \u001b[34mrecipes\u001b[39m::fixed()\n",
      "\u001b[31m✖\u001b[39m \u001b[34mdplyr\u001b[39m::\u001b[32mlag()\u001b[39m        masks \u001b[34mstats\u001b[39m::lag()\n",
      "\u001b[31m✖\u001b[39m \u001b[34mreadr\u001b[39m::\u001b[32mspec()\u001b[39m       masks \u001b[34myardstick\u001b[39m::spec()\n",
      "\u001b[36mℹ\u001b[39m Use the conflicted package (\u001b[3m\u001b[34m<http://conflicted.r-lib.org/>\u001b[39m\u001b[23m) to force all conflicts to become errors\n",
      "\n",
      "Attaching package: ‘janitor’\n",
      "\n",
      "\n",
      "The following objects are masked from ‘package:stats’:\n",
      "\n",
      "    chisq.test, fisher.test\n",
      "\n",
      "\n",
      "Warning message:\n",
      "“package ‘GGally’ was built under R version 4.3.2”\n",
      "Registered S3 method overwritten by 'GGally':\n",
      "  method from   \n",
      "  +.gg   ggplot2\n",
      "\n",
      "\n",
      "Attaching package: ‘gridExtra’\n",
      "\n",
      "\n",
      "The following object is masked from ‘package:dplyr’:\n",
      "\n",
      "    combine\n",
      "\n",
      "\n"
     ]
    }
   ],
   "source": [
    "library(ggplot2)\n",
    "library(tidymodels)\n",
    "library(tidyverse)\n",
    "library(repr)\n",
    "library(janitor)\n",
    "library(GGally)\n",
    "library(readr)\n",
    "library(dplyr)\n",
    "library(ISLR)\n",
    "library(gridExtra)\n",
    "library(kknn)\n",
    "set.seed(1234)"
   ]
  },
  {
   "cell_type": "markdown",
   "id": "b9453390-c40b-4182-9079-5e07e0d6f27a",
   "metadata": {},
   "source": [
    "We first read the data and wrangle it by choosing the number of beds and baths greater than 0, as well as erasing some mislabelled houses. We figured that number_baths was the best predictor compared to other for the linear regression model, so we decided to use it as the predictor against the housing price. This makes sense since a house with a high ratio between the number of beds and baths would have its value lower than those with a relatively equal number of beds and baths. \n",
    "\n",
    "For the kNN regression model, we accounted for the median family income, number of beds and baths as our predictors since they are both important factors in predicting the household value."
   ]
  },
  {
   "cell_type": "markdown",
   "id": "72e60aad-0183-49b9-8ceb-aeca661b10b2",
   "metadata": {},
   "source": [
    "Table 1. Clean dataset with number of beds and baths greater than 0"
   ]
  },
  {
   "cell_type": "code",
   "execution_count": null,
   "id": "02ccd6ee-5408-452a-9308-a1ab4dcb45f5",
   "metadata": {},
   "outputs": [],
   "source": [
    "url <- \"https://raw.githubusercontent.com/slappyslop/dsci-100-002-033/main/data/HouseListings-Top45Cities-10292023-kaggle.csv\"\n",
    "download.file(url, \"data/HouseListings-Top45Cities-10292023-kaggle.csv\")\n",
    "housing_raw <- read_csv(\"data/HouseListings-Top45Cities-10292023-kaggle.csv\") |> clean_names()\n",
    "housing_filter <- housing_raw |> filter(number_beds > 0 & number_baths > 0)\n",
    "housing_clean <- housing_filter |> filter(!(city %in% c(\"Saskatoon\", \"Winnipeg\", \"Nanaimo\", \"Regina\") & province == \"Ontario\"))\n",
    "housing_clean |> head()\n",
    "housing_clean |> tail()"
   ]
  },
  {
   "cell_type": "markdown",
   "id": "6fcbc619-4ca3-4ece-8014-de199adb97bb",
   "metadata": {},
   "source": [
    "Then we split the cleaned dataset into training set and testing set."
   ]
  },
  {
   "cell_type": "code",
   "execution_count": null,
   "id": "09711631-fcfa-4d12-b836-9c94216933fe",
   "metadata": {},
   "outputs": [],
   "source": [
    "set.seed(1234)\n",
    "housing_split <- initial_split(housing_clean, prop = 0.75, strata = price)\n",
    "training <- training(housing_split)\n",
    "testing <- testing(housing_split)"
   ]
  },
  {
   "cell_type": "markdown",
   "id": "c17ef005-6c8b-4849-8ea3-3e03c8d46e16",
   "metadata": {},
   "source": [
    "Using the training data, we constructed three graphs illustrating the relationship between price and the number of beds, baths, and median family income, respectively. This is to get a better sense of what will be the factor that has the strongest influence on the housing prices."
   ]
  },
  {
   "cell_type": "code",
   "execution_count": null,
   "id": "e936b339-8432-433c-a712-c77901cf5006",
   "metadata": {},
   "outputs": [],
   "source": [
    "options(repr.plot.height = 4, repr.plot.width = 4)\n",
    "bed_plot <- training|>\n",
    "            ggplot(aes(x = number_beds, y = price))+\n",
    "            geom_point(alpha=0.4)+\n",
    "            labs(x = \"Number of Beds\", y = \"Price(CAD)\", title = \"Graph 1. The Relationship between Number of Beds and Price\")+\n",
    "            xlim(c(0, 30))\n",
    "bath_plot <- training|>\n",
    "            ggplot(aes(x = number_baths, y = price))+\n",
    "            geom_point(alpha=0.4)+\n",
    "            labs(x = \"Number of Baths\", y = \"Price(CAD)\", title = \"Graph 2. The Relationship between Number of Bath and Price\")+\n",
    "            xlim(c(0, 20))\n",
    "income_plot <- training|>\n",
    "            ggplot(aes(x = median_family_income, y = price))+\n",
    "            geom_point(alpha=0.4)+\n",
    "            labs(x = \"Median Family Income\", y = \"Price(CAD)\", title = \"Graph 3. The Relationship between Median Family Income and Price\")\n"
   ]
  },
  {
   "cell_type": "code",
   "execution_count": null,
   "id": "37d794de-c109-433f-95c7-d1735315f6b9",
   "metadata": {},
   "outputs": [],
   "source": [
    "options(repr.plot.height = 8, repr.plot.width = 6)\n",
    "final_plot <- grid.arrange (bed_plot, bath_plot, income_plot, nrow = 3)\n",
    "final_plot"
   ]
  },
  {
   "cell_type": "markdown",
   "id": "dac276de-8293-484e-9834-ea4c435985a8",
   "metadata": {},
   "source": [
    "### 1. Linear Regression"
   ]
  },
  {
   "cell_type": "markdown",
   "id": "40286288-2479-4c7b-a3a5-d3a4ad2fd7f5",
   "metadata": {},
   "source": [
    "We first attempted to make a linear regression of price against one of the variables, we also made our predictors which included the ratio of beds to bathrooms and the sum of beds and bathrooms. In order to see the feasibility of this, we used a pair plot through the following code. Unfortunately, this code makes the kernel crash, and so this was done using RStudio on Shravan's local machine"
   ]
  },
  {
   "cell_type": "code",
   "execution_count": null,
   "id": "bcd5b143-72de-4ced-8ed1-3477da7aa8b6",
   "metadata": {},
   "outputs": [],
   "source": [
    "training <- training |> select(-longitude, -latitude, -address, -city, -province)\n",
    "testing <- testing |> select(-longitude, -latitude, -address, -city, -province)"
   ]
  },
  {
   "cell_type": "markdown",
   "id": "8b9be0b6-a40a-434d-81ff-cfd1fc76b6e7",
   "metadata": {},
   "source": [
    "First we removed the factors that we thought would not have much effect on the prediction such as lattitude and longitude, as well as non-numeric columns like address, city, and province. we felt that number_beds, number_baths, and median_family_income would be the best predictors for our problem. \r\n",
    "\r\n"
   ]
  },
  {
   "cell_type": "markdown",
   "id": "1b2e26a1-6cc9-4e16-b87e-f997958b34bd",
   "metadata": {},
   "source": [
    "As observed from the dataset, there are houses with the number of beds significantly greater than the number of baths. We thus decided to create another column called ratio which determines whether the number of beds and baths is reasonable, and adingd up the beds and baths to see the houses' total number of rooms. Both new columns are helpful since they directly affect the household value, and this makes sense since a high ratio would mean there are more beds than baths, which is not ideal for a family of many people. Furthermore, the more rooms a house has, the greater the housing price will be because the house will be considered a large house\n"
   ]
  },
  {
   "cell_type": "markdown",
   "id": "412a535a-8bde-4241-ab9c-bf558ddcf864",
   "metadata": {},
   "source": [
    "Table 2. Training dataset with new predictors"
   ]
  },
  {
   "cell_type": "code",
   "execution_count": null,
   "id": "f4fe255b-8b47-42bc-911f-462f877c0d27",
   "metadata": {},
   "outputs": [],
   "source": [
    "training_full <- training |> mutate(sum = number_beds + number_baths, ratio = number_beds/number_baths,)\n",
    "training_full |> head(5)\n",
    "training_full |> tail(5)"
   ]
  },
  {
   "cell_type": "markdown",
   "id": "1b41e679-891c-48d8-9df4-ce0689be9fa8",
   "metadata": {},
   "source": [
    "Table 3. Testing dataset with new predictors"
   ]
  },
  {
   "cell_type": "markdown",
   "id": "ffb49cb8-5ec2-432c-8a54-66e5c9904cca",
   "metadata": {},
   "source": [
    "We then used the following code to run a pairplot to see which factors had the best linear corellation. Unfortunately, this code makes the kernel crash, and so this was done using RStudio on Shravan's local machine\n",
    "\n",
    "### Makes the kernel crash !\n",
    "```\n",
    "price_pairplot <- training_full|> ggpairs( lower = list(continuous = wrap('points', alpha = 0.4)), diag = list(continuous = \"barDiag\") ) + \r",
    "                                  theme(text = element_text(size = 20))\n",
    "price_pairplot\n",
    "```\n"
   ]
  },
  {
   "cell_type": "markdown",
   "id": "a7f0fdcb-307e-4c07-8257-e9c0836fca13",
   "metadata": {},
   "source": [
    "We discovered that the correlation coefficient was highest with `sum` and `number_baths`, these being the best linear predictors of price (`0.423` and `0.471`). However, `sum`, `ratio`, and `number_beds` had some co-linearity to `number_baths` so we didn't use them. The only predictors non-colinear to `number_baths` were `median_family_income` and `population`but these had a correlation coefficient of `0.053` and `0.075` so we didn't use them either. We decided that for the linear regression, the only predictor we would use was `number_baths`."
   ]
  },
  {
   "cell_type": "markdown",
   "id": "23a2f9a5-3419-4d9b-a737-84ca3d77be88",
   "metadata": {},
   "source": [
    "We consideredlogging the price as it would produce more interpretable visualizations and a lower RMSE, but chose to just predict price instead. This is because if we chose to calculate the logarithm, a small difference in the RMSE value for `log(price)` would be a huge difference in the prediction error for `price`. Also an equivalent prediction of `log(price)` above the truth value would produce a much larger error for `price` than an equivalent prediction of `log(price)` under the truth value. This would make it hard to interpret and evaluate the model."
   ]
  },
  {
   "cell_type": "code",
   "execution_count": null,
   "id": "02b166fb-0889-4321-8c01-44336a0c5b58",
   "metadata": {},
   "outputs": [],
   "source": [
    "lm_spec <- linear_reg() |> set_engine(\"lm\") |> set_mode(\"regression\")\n",
    "lm_recipe <- recipe(price ~ number_baths, data = training_full)\n",
    "lm_fit <-  workflow() |> add_recipe(lm_recipe) |> \n",
    "  add_model(lm_spec) |> \n",
    "  fit(data = training_full)\n",
    "lm_fit\n"
   ]
  },
  {
   "cell_type": "code",
   "execution_count": null,
   "id": "fb21a48a-554a-405d-8afa-fc8fccd62b43",
   "metadata": {},
   "outputs": [],
   "source": [
    "lm_test_results <- lm_fit |>\n",
    "  predict(testing_full) |>\n",
    "  bind_cols(testing_full) |>\n",
    "  metrics(truth = price, estimate = .pred) |> filter(.metric == \"rmse\")\n",
    "lm_test_results"
   ]
  },
  {
   "cell_type": "markdown",
   "id": "8ae3eb14-bef6-4c79-9ba7-d1eb0c71f3c2",
   "metadata": {},
   "source": [
    "This approach gives us an RMSE value of `809492.1`."
   ]
  },
  {
   "cell_type": "code",
   "execution_count": null,
   "id": "db2188da-9871-48b8-b7ba-eb015e5b4fb8",
   "metadata": {},
   "outputs": [],
   "source": [
    "options(plot.repr.height = 4, plot.repr.width = 4)\n",
    "lm_plot <- ggplot(testing_full, aes(x = number_baths , y = price)) + \n",
    "  geom_point()+ \n",
    "  geom_abline(intercept = -17159, slope =  374799 ,linetype = \"dashed\", color = \"blue\", size = 1) +\n",
    "  labs(y = \"Home price (CAD)\", x = \"Number of baths in home\") +\n",
    "  ggtitle(\"Graph 4. Regression Visualization\")+\n",
    "  theme(text = element_text(size = 12))\n",
    "lm_plot"
   ]
  },
  {
   "cell_type": "markdown",
   "id": "01210a09-39ec-4d9f-8fc1-ec950b84ab98",
   "metadata": {},
   "source": [
    "From the scatterplot above, we can see that the points cluster in the left corner, and there is an outlier on the right at x = 60. We decided to take a closer look at the larger cluster."
   ]
  },
  {
   "cell_type": "code",
   "execution_count": null,
   "id": "a430fecd-e884-491d-997e-30521b8ffe40",
   "metadata": {},
   "outputs": [],
   "source": [
    "lm_plot_2 <- ggplot(testing_full, aes(x = number_baths , y = price)) + \n",
    "  geom_point()+ \n",
    "  geom_abline(intercept = -17159, slope =  374799 , linetype = \"dashed\", color = \"blue\", size = 1) +\n",
    "  labs(y = \"Home price (CAD)\", x = \"Number of baths in home\") + xlim(0, 15)+\n",
    "  ggtitle(\"Graph 5. Regression Visualization\")\n",
    "\n",
    "lm_plot_2"
   ]
  },
  {
   "cell_type": "markdown",
   "id": "cd1238db-9c6c-4cc6-a996-b5d51b3e4c4a",
   "metadata": {},
   "source": [
    "### 2. KNN  Regression"
   ]
  },
  {
   "cell_type": "markdown",
   "id": "6e466951-1348-43d4-9618-7df21fc22029",
   "metadata": {},
   "source": [
    "We then wanted to test how a kNN regression model would fare in the same task. Here we decided to use all the columns as predictors because this way, the algorithm can select the closest set of houses to the one that needs to be predicted. It's important to realize here that both `population` and `median_family_income` are basically just numeric values for `city` which we removed from the training set eariler. However, after a lot of testing, we found the best results when both were present in the dataset. We think this is because it helps the kNN model select houses from the same city to compare against better. "
   ]
  },
  {
   "cell_type": "code",
   "execution_count": null,
   "id": "25ee96fd-9596-4563-b3e8-4e87e3fca607",
   "metadata": {},
   "outputs": [],
   "source": [
    "head(training_full)\n",
    "tail(training_full)"
   ]
  },
  {
   "cell_type": "markdown",
   "id": "2bb4b329-b57c-4950-98c5-bbed545fce56",
   "metadata": {},
   "source": [
    "We set the seed and created the kNN model, and cross validated to find the best k value."
   ]
  },
  {
   "cell_type": "code",
   "execution_count": null,
   "id": "298c9e7f-4f54-43e0-bc5e-33ecd027472d",
   "metadata": {},
   "outputs": [],
   "source": [
    "set.seed(1234)\n",
    "housing_recipe <- recipe(price ~ ., data = training_full) |>\n",
    "  step_scale(all_predictors()) |>\n",
    "  step_center(all_predictors())\n",
    "housing_recipe\n",
    "housing_spec <- nearest_neighbor(weight_func = \"rectangular\", neighbors = tune()) |>\n",
    "  set_engine(\"kknn\") |>\n",
    "  set_mode(\"regression\")\n",
    "\n",
    "housing_vfold <- vfold_cv(training_full, v = 5, strata = price)\n",
    "\n",
    "housing_workflow <- workflow() |>\n",
    "  add_recipe(housing_recipe) |>\n",
    "  add_model(housing_spec)\n",
    "\n",
    "tuned_housing <- housing_workflow |>\n",
    "  tune_grid(resamples = housing_vfold, grid = tibble(neighbors = seq(from = 1, to = 41, by = 5))) |>\n",
    "  collect_metrics()|>\n",
    "  filter(.metric == \"rmse\")\n",
    "\n",
    "tuned_housing"
   ]
  },
  {
   "cell_type": "markdown",
   "id": "431a2904-2468-4ed5-bb14-66e7b3b0632a",
   "metadata": {},
   "source": [
    "Table 4. Number of neighbours and their corresponding RMSE values"
   ]
  },
  {
   "cell_type": "code",
   "execution_count": null,
   "id": "e12e419a-957a-4805-9ba7-e11e73ad7bf2",
   "metadata": {},
   "outputs": [],
   "source": [
    "ggplot(tuned_housing, aes(x = neighbors, y = mean)) + geom_point() + geom_line() +\n",
    "labs(x = \"Number of neighbours\", y = \"RMSE\") +\n",
    "ggtitle(\"Graph 6. Relationship between RMSE and number of neighbours\")\n",
    "options(repr.plot.height = 6, repr.plot.width = 7.5)"
   ]
  },
  {
   "cell_type": "code",
   "execution_count": null,
   "id": "ed648086-fe10-4250-9939-3d326e419890",
   "metadata": {},
   "outputs": [],
   "source": []
  }
 ],
 "metadata": {
  "kernelspec": {
   "display_name": "R",
   "language": "R",
   "name": "ir"
  },
  "language_info": {
   "codemirror_mode": "r",
   "file_extension": ".r",
   "mimetype": "text/x-r-source",
   "name": "R",
   "pygments_lexer": "r",
   "version": "4.3.1"
  }
 },
 "nbformat": 4,
 "nbformat_minor": 5
}
