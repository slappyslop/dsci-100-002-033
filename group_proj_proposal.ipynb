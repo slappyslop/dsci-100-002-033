{
 "cells": [
  {
   "cell_type": "markdown",
   "id": "722becac-e350-467b-b212-f3533e0c5d6b",
   "metadata": {},
   "source": [
    "## 1. Introduction\n",
    "Our dataset is a list of housing listings from the top 45 most populous cities in canada. We felt that it would be interesting and relevant (since we are first years looking for housing) to study this data and identify patterns in it. Our goal is to create a regression model that can predict price using number of beds, number of baths, and city as predictors."
   ]
  },
  {
   "cell_type": "markdown",
   "id": "a17c7871-33ed-422d-b30b-e482156b2bb7",
   "metadata": {},
   "source": [
    "## 2. Preliminary Data Analysis"
   ]
  },
  {
   "cell_type": "code",
   "execution_count": 13,
   "id": "057195fb-5352-4c7a-bd72-e4f162694450",
   "metadata": {},
   "outputs": [],
   "source": [
    "library(tidyverse)\n",
    "library(repr)\n",
    "library(tidymodels)\n",
    "library(janitor)\n",
    "options(repr.matrix.max.rows = 6)"
   ]
  },
  {
   "cell_type": "markdown",
   "id": "a6b08b4d-3c67-434a-9020-f2363f373287",
   "metadata": {},
   "source": [
    "We load our data into a tibble "
   ]
  },
  {
   "cell_type": "code",
   "execution_count": 14,
   "id": "042cb2f7-76a3-43e0-95d2-e248646b8b64",
   "metadata": {},
   "outputs": [
    {
     "name": "stderr",
     "output_type": "stream",
     "text": [
      "\u001b[1mRows: \u001b[22m\u001b[34m35768\u001b[39m \u001b[1mColumns: \u001b[22m\u001b[34m10\u001b[39m\n",
      "\u001b[36m──\u001b[39m \u001b[1mColumn specification\u001b[22m \u001b[36m────────────────────────────────────────────────────────\u001b[39m\n",
      "\u001b[1mDelimiter:\u001b[22m \",\"\n",
      "\u001b[31mchr\u001b[39m (3): City, Address, Province\n",
      "\u001b[32mdbl\u001b[39m (7): Price, Number_Beds, Number_Baths, Population, Latitude, Longitude, ...\n",
      "\n",
      "\u001b[36mℹ\u001b[39m Use `spec()` to retrieve the full column specification for this data.\n",
      "\u001b[36mℹ\u001b[39m Specify the column types or set `show_col_types = FALSE` to quiet this message.\n"
     ]
    },
    {
     "data": {
      "text/html": [
       "<table class=\"dataframe\">\n",
       "<caption>A spec_tbl_df: 35768 × 10</caption>\n",
       "<thead>\n",
       "\t<tr><th scope=col>city</th><th scope=col>price</th><th scope=col>address</th><th scope=col>number_beds</th><th scope=col>number_baths</th><th scope=col>province</th><th scope=col>population</th><th scope=col>latitude</th><th scope=col>longitude</th><th scope=col>median_family_income</th></tr>\n",
       "\t<tr><th scope=col>&lt;chr&gt;</th><th scope=col>&lt;dbl&gt;</th><th scope=col>&lt;chr&gt;</th><th scope=col>&lt;dbl&gt;</th><th scope=col>&lt;dbl&gt;</th><th scope=col>&lt;chr&gt;</th><th scope=col>&lt;dbl&gt;</th><th scope=col>&lt;dbl&gt;</th><th scope=col>&lt;dbl&gt;</th><th scope=col>&lt;dbl&gt;</th></tr>\n",
       "</thead>\n",
       "<tbody>\n",
       "\t<tr><td>Toronto</td><td>779900</td><td>#318 -20 SOUTHPORT ST  </td><td>3</td><td>2</td><td>Ontario</td><td>5647656</td><td>43.7417</td><td>-79.3733</td><td>97000</td></tr>\n",
       "\t<tr><td>Toronto</td><td>799999</td><td>#818 -60 SOUTHPORT ST  </td><td>3</td><td>1</td><td>Ontario</td><td>5647656</td><td>43.7417</td><td>-79.3733</td><td>97000</td></tr>\n",
       "\t<tr><td>Toronto</td><td>799900</td><td>#714 -859 THE QUEENSWAY</td><td>2</td><td>2</td><td>Ontario</td><td>5647656</td><td>43.7417</td><td>-79.3733</td><td>97000</td></tr>\n",
       "\t<tr><td>⋮</td><td>⋮</td><td>⋮</td><td>⋮</td><td>⋮</td><td>⋮</td><td>⋮</td><td>⋮</td><td>⋮</td><td>⋮</td></tr>\n",
       "\t<tr><td>Halifax</td><td>419900</td><td>212 60 Walter Havill Drive</td><td>2</td><td>2</td><td>Nova Scotia</td><td>431479</td><td>44.8857</td><td>63.1005</td><td>86753</td></tr>\n",
       "\t<tr><td>Halifax</td><td>949900</td><td>10 Idlewylde Road         </td><td>3</td><td>1</td><td>Nova Scotia</td><td>431479</td><td>44.8857</td><td>63.1005</td><td>86753</td></tr>\n",
       "\t<tr><td>Halifax</td><td>592900</td><td>208 2842-2856 Gottingen   </td><td>2</td><td>1</td><td>Nova Scotia</td><td>431479</td><td>44.8857</td><td>63.1005</td><td>86753</td></tr>\n",
       "</tbody>\n",
       "</table>\n"
      ],
      "text/latex": [
       "A spec\\_tbl\\_df: 35768 × 10\n",
       "\\begin{tabular}{llllllllll}\n",
       " city & price & address & number\\_beds & number\\_baths & province & population & latitude & longitude & median\\_family\\_income\\\\\n",
       " <chr> & <dbl> & <chr> & <dbl> & <dbl> & <chr> & <dbl> & <dbl> & <dbl> & <dbl>\\\\\n",
       "\\hline\n",
       "\t Toronto & 779900 & \\#318 -20 SOUTHPORT ST   & 3 & 2 & Ontario & 5647656 & 43.7417 & -79.3733 & 97000\\\\\n",
       "\t Toronto & 799999 & \\#818 -60 SOUTHPORT ST   & 3 & 1 & Ontario & 5647656 & 43.7417 & -79.3733 & 97000\\\\\n",
       "\t Toronto & 799900 & \\#714 -859 THE QUEENSWAY & 2 & 2 & Ontario & 5647656 & 43.7417 & -79.3733 & 97000\\\\\n",
       "\t ⋮ & ⋮ & ⋮ & ⋮ & ⋮ & ⋮ & ⋮ & ⋮ & ⋮ & ⋮\\\\\n",
       "\t Halifax & 419900 & 212 60 Walter Havill Drive & 2 & 2 & Nova Scotia & 431479 & 44.8857 & 63.1005 & 86753\\\\\n",
       "\t Halifax & 949900 & 10 Idlewylde Road          & 3 & 1 & Nova Scotia & 431479 & 44.8857 & 63.1005 & 86753\\\\\n",
       "\t Halifax & 592900 & 208 2842-2856 Gottingen    & 2 & 1 & Nova Scotia & 431479 & 44.8857 & 63.1005 & 86753\\\\\n",
       "\\end{tabular}\n"
      ],
      "text/markdown": [
       "\n",
       "A spec_tbl_df: 35768 × 10\n",
       "\n",
       "| city &lt;chr&gt; | price &lt;dbl&gt; | address &lt;chr&gt; | number_beds &lt;dbl&gt; | number_baths &lt;dbl&gt; | province &lt;chr&gt; | population &lt;dbl&gt; | latitude &lt;dbl&gt; | longitude &lt;dbl&gt; | median_family_income &lt;dbl&gt; |\n",
       "|---|---|---|---|---|---|---|---|---|---|\n",
       "| Toronto | 779900 | #318 -20 SOUTHPORT ST   | 3 | 2 | Ontario | 5647656 | 43.7417 | -79.3733 | 97000 |\n",
       "| Toronto | 799999 | #818 -60 SOUTHPORT ST   | 3 | 1 | Ontario | 5647656 | 43.7417 | -79.3733 | 97000 |\n",
       "| Toronto | 799900 | #714 -859 THE QUEENSWAY | 2 | 2 | Ontario | 5647656 | 43.7417 | -79.3733 | 97000 |\n",
       "| ⋮ | ⋮ | ⋮ | ⋮ | ⋮ | ⋮ | ⋮ | ⋮ | ⋮ | ⋮ |\n",
       "| Halifax | 419900 | 212 60 Walter Havill Drive | 2 | 2 | Nova Scotia | 431479 | 44.8857 | 63.1005 | 86753 |\n",
       "| Halifax | 949900 | 10 Idlewylde Road          | 3 | 1 | Nova Scotia | 431479 | 44.8857 | 63.1005 | 86753 |\n",
       "| Halifax | 592900 | 208 2842-2856 Gottingen    | 2 | 1 | Nova Scotia | 431479 | 44.8857 | 63.1005 | 86753 |\n",
       "\n"
      ],
      "text/plain": [
       "      city    price  address                    number_beds number_baths\n",
       "1     Toronto 779900 #318 -20 SOUTHPORT ST      3           2           \n",
       "2     Toronto 799999 #818 -60 SOUTHPORT ST      3           1           \n",
       "3     Toronto 799900 #714 -859 THE QUEENSWAY    2           2           \n",
       "⋮     ⋮       ⋮      ⋮                          ⋮           ⋮           \n",
       "35766 Halifax 419900 212 60 Walter Havill Drive 2           2           \n",
       "35767 Halifax 949900 10 Idlewylde Road          3           1           \n",
       "35768 Halifax 592900 208 2842-2856 Gottingen    2           1           \n",
       "      province    population latitude longitude median_family_income\n",
       "1     Ontario     5647656    43.7417  -79.3733  97000               \n",
       "2     Ontario     5647656    43.7417  -79.3733  97000               \n",
       "3     Ontario     5647656    43.7417  -79.3733  97000               \n",
       "⋮     ⋮           ⋮          ⋮        ⋮         ⋮                   \n",
       "35766 Nova Scotia 431479     44.8857  63.1005   86753               \n",
       "35767 Nova Scotia 431479     44.8857  63.1005   86753               \n",
       "35768 Nova Scotia 431479     44.8857  63.1005   86753               "
      ]
     },
     "metadata": {},
     "output_type": "display_data"
    }
   ],
   "source": [
    "housing_raw <- read_csv(\"data/HouseListings-Top45Cities-10292023-kaggle.csv\") |> clean_names()\n",
    "housing_raw"
   ]
  },
  {
   "cell_type": "markdown",
   "id": "c8fd880a-c754-41fc-9c50-00a7bfdfbf7f",
   "metadata": {},
   "source": [
    "This tibble is already tidy, so we can get down to summarizing and visualizing data"
   ]
  },
  {
   "cell_type": "markdown",
   "id": "526b2dde-8a3c-4833-aceb-743781fdcf3e",
   "metadata": {},
   "source": [
    "Address, latitude, and longitude won't help us make a prediction, so let's remove them. Additionally it's important to note that median_family_income and population are only unique to the city, and so exist only to assign a numeric value to each city"
   ]
  },
  {
   "cell_type": "code",
   "execution_count": 20,
   "id": "4a1af1fe-acfe-44b6-a103-944fa7198380",
   "metadata": {},
   "outputs": [
    {
     "data": {
      "text/html": [
       "<table class=\"dataframe\">\n",
       "<caption>A spec_tbl_df: 826 × 10</caption>\n",
       "<thead>\n",
       "\t<tr><th scope=col>city</th><th scope=col>price</th><th scope=col>address</th><th scope=col>number_beds</th><th scope=col>number_baths</th><th scope=col>province</th><th scope=col>population</th><th scope=col>latitude</th><th scope=col>longitude</th><th scope=col>median_family_income</th></tr>\n",
       "\t<tr><th scope=col>&lt;chr&gt;</th><th scope=col>&lt;dbl&gt;</th><th scope=col>&lt;chr&gt;</th><th scope=col>&lt;dbl&gt;</th><th scope=col>&lt;dbl&gt;</th><th scope=col>&lt;chr&gt;</th><th scope=col>&lt;dbl&gt;</th><th scope=col>&lt;dbl&gt;</th><th scope=col>&lt;dbl&gt;</th><th scope=col>&lt;dbl&gt;</th></tr>\n",
       "</thead>\n",
       "<tbody>\n",
       "\t<tr><td>Toronto</td><td>548000</td><td>#2503 -99 HARBOUR SQ  </td><td>0</td><td>1</td><td>Ontario</td><td>5647656</td><td>43.7417</td><td>-79.3733</td><td>97000</td></tr>\n",
       "\t<tr><td>Toronto</td><td>459900</td><td>#2311 -170 SUMACH ST N</td><td>0</td><td>1</td><td>Ontario</td><td>5647656</td><td>43.7417</td><td>-79.3733</td><td>97000</td></tr>\n",
       "\t<tr><td>Toronto</td><td>499900</td><td>#202 -1030 KING ST W  </td><td>0</td><td>1</td><td>Ontario</td><td>5647656</td><td>43.7417</td><td>-79.3733</td><td>97000</td></tr>\n",
       "\t<tr><td>⋮</td><td>⋮</td><td>⋮</td><td>⋮</td><td>⋮</td><td>⋮</td><td>⋮</td><td>⋮</td><td>⋮</td><td>⋮</td></tr>\n",
       "\t<tr><td>Saskatoon</td><td>199000</td><td>408-404 C AVENUE S </td><td>0</td><td>1</td><td>Saskatchewan</td><td>266141</td><td>52.1333</td><td>-106.6833</td><td>89000</td></tr>\n",
       "\t<tr><td>Saskatoon</td><td>350000</td><td>428 F AVENUE S     </td><td>0</td><td>1</td><td>Saskatchewan</td><td>266141</td><td>52.1333</td><td>-106.6833</td><td>89000</td></tr>\n",
       "\t<tr><td>Saskatoon</td><td> 84900</td><td>19-400 4th AVENUE N</td><td>0</td><td>1</td><td>Saskatchewan</td><td>266141</td><td>52.1333</td><td>-106.6833</td><td>89000</td></tr>\n",
       "</tbody>\n",
       "</table>\n"
      ],
      "text/latex": [
       "A spec\\_tbl\\_df: 826 × 10\n",
       "\\begin{tabular}{llllllllll}\n",
       " city & price & address & number\\_beds & number\\_baths & province & population & latitude & longitude & median\\_family\\_income\\\\\n",
       " <chr> & <dbl> & <chr> & <dbl> & <dbl> & <chr> & <dbl> & <dbl> & <dbl> & <dbl>\\\\\n",
       "\\hline\n",
       "\t Toronto & 548000 & \\#2503 -99 HARBOUR SQ   & 0 & 1 & Ontario & 5647656 & 43.7417 & -79.3733 & 97000\\\\\n",
       "\t Toronto & 459900 & \\#2311 -170 SUMACH ST N & 0 & 1 & Ontario & 5647656 & 43.7417 & -79.3733 & 97000\\\\\n",
       "\t Toronto & 499900 & \\#202 -1030 KING ST W   & 0 & 1 & Ontario & 5647656 & 43.7417 & -79.3733 & 97000\\\\\n",
       "\t ⋮ & ⋮ & ⋮ & ⋮ & ⋮ & ⋮ & ⋮ & ⋮ & ⋮ & ⋮\\\\\n",
       "\t Saskatoon & 199000 & 408-404 C AVENUE S  & 0 & 1 & Saskatchewan & 266141 & 52.1333 & -106.6833 & 89000\\\\\n",
       "\t Saskatoon & 350000 & 428 F AVENUE S      & 0 & 1 & Saskatchewan & 266141 & 52.1333 & -106.6833 & 89000\\\\\n",
       "\t Saskatoon &  84900 & 19-400 4th AVENUE N & 0 & 1 & Saskatchewan & 266141 & 52.1333 & -106.6833 & 89000\\\\\n",
       "\\end{tabular}\n"
      ],
      "text/markdown": [
       "\n",
       "A spec_tbl_df: 826 × 10\n",
       "\n",
       "| city &lt;chr&gt; | price &lt;dbl&gt; | address &lt;chr&gt; | number_beds &lt;dbl&gt; | number_baths &lt;dbl&gt; | province &lt;chr&gt; | population &lt;dbl&gt; | latitude &lt;dbl&gt; | longitude &lt;dbl&gt; | median_family_income &lt;dbl&gt; |\n",
       "|---|---|---|---|---|---|---|---|---|---|\n",
       "| Toronto | 548000 | #2503 -99 HARBOUR SQ   | 0 | 1 | Ontario | 5647656 | 43.7417 | -79.3733 | 97000 |\n",
       "| Toronto | 459900 | #2311 -170 SUMACH ST N | 0 | 1 | Ontario | 5647656 | 43.7417 | -79.3733 | 97000 |\n",
       "| Toronto | 499900 | #202 -1030 KING ST W   | 0 | 1 | Ontario | 5647656 | 43.7417 | -79.3733 | 97000 |\n",
       "| ⋮ | ⋮ | ⋮ | ⋮ | ⋮ | ⋮ | ⋮ | ⋮ | ⋮ | ⋮ |\n",
       "| Saskatoon | 199000 | 408-404 C AVENUE S  | 0 | 1 | Saskatchewan | 266141 | 52.1333 | -106.6833 | 89000 |\n",
       "| Saskatoon | 350000 | 428 F AVENUE S      | 0 | 1 | Saskatchewan | 266141 | 52.1333 | -106.6833 | 89000 |\n",
       "| Saskatoon |  84900 | 19-400 4th AVENUE N | 0 | 1 | Saskatchewan | 266141 | 52.1333 | -106.6833 | 89000 |\n",
       "\n"
      ],
      "text/plain": [
       "    city      price  address                number_beds number_baths\n",
       "1   Toronto   548000 #2503 -99 HARBOUR SQ   0           1           \n",
       "2   Toronto   459900 #2311 -170 SUMACH ST N 0           1           \n",
       "3   Toronto   499900 #202 -1030 KING ST W   0           1           \n",
       "⋮   ⋮         ⋮      ⋮                      ⋮           ⋮           \n",
       "824 Saskatoon 199000 408-404 C AVENUE S     0           1           \n",
       "825 Saskatoon 350000 428 F AVENUE S         0           1           \n",
       "826 Saskatoon  84900 19-400 4th AVENUE N    0           1           \n",
       "    province     population latitude longitude median_family_income\n",
       "1   Ontario      5647656    43.7417  -79.3733  97000               \n",
       "2   Ontario      5647656    43.7417  -79.3733  97000               \n",
       "3   Ontario      5647656    43.7417  -79.3733  97000               \n",
       "⋮   ⋮            ⋮          ⋮        ⋮         ⋮                   \n",
       "824 Saskatchewan 266141     52.1333  -106.6833 89000               \n",
       "825 Saskatchewan 266141     52.1333  -106.6833 89000               \n",
       "826 Saskatchewan 266141     52.1333  -106.6833 89000               "
      ]
     },
     "metadata": {},
     "output_type": "display_data"
    }
   ],
   "source": [
    "\n",
    "filter(housing_raw, number_beds == 0 | number_baths == 0)"
   ]
  },
  {
   "cell_type": "markdown",
   "id": "3271d1e8-4dbc-4ef9-9051-a375c9e96c9d",
   "metadata": {},
   "source": [
    "These are all wrong (there are no 0 bed houses), so let's remove them from our data so it doesn't skew the model"
   ]
  },
  {
   "cell_type": "code",
   "execution_count": 25,
   "id": "9493ff6f-3f8c-4f96-aa63-9e9e2aa258ce",
   "metadata": {},
   "outputs": [
    {
     "data": {
      "text/html": [
       "<table class=\"dataframe\">\n",
       "<caption>A spec_tbl_df: 34942 × 10</caption>\n",
       "<thead>\n",
       "\t<tr><th scope=col>city</th><th scope=col>price</th><th scope=col>address</th><th scope=col>number_beds</th><th scope=col>number_baths</th><th scope=col>province</th><th scope=col>population</th><th scope=col>latitude</th><th scope=col>longitude</th><th scope=col>median_family_income</th></tr>\n",
       "\t<tr><th scope=col>&lt;chr&gt;</th><th scope=col>&lt;dbl&gt;</th><th scope=col>&lt;chr&gt;</th><th scope=col>&lt;dbl&gt;</th><th scope=col>&lt;dbl&gt;</th><th scope=col>&lt;chr&gt;</th><th scope=col>&lt;dbl&gt;</th><th scope=col>&lt;dbl&gt;</th><th scope=col>&lt;dbl&gt;</th><th scope=col>&lt;dbl&gt;</th></tr>\n",
       "</thead>\n",
       "<tbody>\n",
       "\t<tr><td>Toronto</td><td>779900</td><td>#318 -20 SOUTHPORT ST  </td><td>3</td><td>2</td><td>Ontario</td><td>5647656</td><td>43.7417</td><td>-79.3733</td><td>97000</td></tr>\n",
       "\t<tr><td>Toronto</td><td>799999</td><td>#818 -60 SOUTHPORT ST  </td><td>3</td><td>1</td><td>Ontario</td><td>5647656</td><td>43.7417</td><td>-79.3733</td><td>97000</td></tr>\n",
       "\t<tr><td>Toronto</td><td>799900</td><td>#714 -859 THE QUEENSWAY</td><td>2</td><td>2</td><td>Ontario</td><td>5647656</td><td>43.7417</td><td>-79.3733</td><td>97000</td></tr>\n",
       "\t<tr><td>⋮</td><td>⋮</td><td>⋮</td><td>⋮</td><td>⋮</td><td>⋮</td><td>⋮</td><td>⋮</td><td>⋮</td><td>⋮</td></tr>\n",
       "\t<tr><td>Halifax</td><td>419900</td><td>212 60 Walter Havill Drive</td><td>2</td><td>2</td><td>Nova Scotia</td><td>431479</td><td>44.8857</td><td>63.1005</td><td>86753</td></tr>\n",
       "\t<tr><td>Halifax</td><td>949900</td><td>10 Idlewylde Road         </td><td>3</td><td>1</td><td>Nova Scotia</td><td>431479</td><td>44.8857</td><td>63.1005</td><td>86753</td></tr>\n",
       "\t<tr><td>Halifax</td><td>592900</td><td>208 2842-2856 Gottingen   </td><td>2</td><td>1</td><td>Nova Scotia</td><td>431479</td><td>44.8857</td><td>63.1005</td><td>86753</td></tr>\n",
       "</tbody>\n",
       "</table>\n"
      ],
      "text/latex": [
       "A spec\\_tbl\\_df: 34942 × 10\n",
       "\\begin{tabular}{llllllllll}\n",
       " city & price & address & number\\_beds & number\\_baths & province & population & latitude & longitude & median\\_family\\_income\\\\\n",
       " <chr> & <dbl> & <chr> & <dbl> & <dbl> & <chr> & <dbl> & <dbl> & <dbl> & <dbl>\\\\\n",
       "\\hline\n",
       "\t Toronto & 779900 & \\#318 -20 SOUTHPORT ST   & 3 & 2 & Ontario & 5647656 & 43.7417 & -79.3733 & 97000\\\\\n",
       "\t Toronto & 799999 & \\#818 -60 SOUTHPORT ST   & 3 & 1 & Ontario & 5647656 & 43.7417 & -79.3733 & 97000\\\\\n",
       "\t Toronto & 799900 & \\#714 -859 THE QUEENSWAY & 2 & 2 & Ontario & 5647656 & 43.7417 & -79.3733 & 97000\\\\\n",
       "\t ⋮ & ⋮ & ⋮ & ⋮ & ⋮ & ⋮ & ⋮ & ⋮ & ⋮ & ⋮\\\\\n",
       "\t Halifax & 419900 & 212 60 Walter Havill Drive & 2 & 2 & Nova Scotia & 431479 & 44.8857 & 63.1005 & 86753\\\\\n",
       "\t Halifax & 949900 & 10 Idlewylde Road          & 3 & 1 & Nova Scotia & 431479 & 44.8857 & 63.1005 & 86753\\\\\n",
       "\t Halifax & 592900 & 208 2842-2856 Gottingen    & 2 & 1 & Nova Scotia & 431479 & 44.8857 & 63.1005 & 86753\\\\\n",
       "\\end{tabular}\n"
      ],
      "text/markdown": [
       "\n",
       "A spec_tbl_df: 34942 × 10\n",
       "\n",
       "| city &lt;chr&gt; | price &lt;dbl&gt; | address &lt;chr&gt; | number_beds &lt;dbl&gt; | number_baths &lt;dbl&gt; | province &lt;chr&gt; | population &lt;dbl&gt; | latitude &lt;dbl&gt; | longitude &lt;dbl&gt; | median_family_income &lt;dbl&gt; |\n",
       "|---|---|---|---|---|---|---|---|---|---|\n",
       "| Toronto | 779900 | #318 -20 SOUTHPORT ST   | 3 | 2 | Ontario | 5647656 | 43.7417 | -79.3733 | 97000 |\n",
       "| Toronto | 799999 | #818 -60 SOUTHPORT ST   | 3 | 1 | Ontario | 5647656 | 43.7417 | -79.3733 | 97000 |\n",
       "| Toronto | 799900 | #714 -859 THE QUEENSWAY | 2 | 2 | Ontario | 5647656 | 43.7417 | -79.3733 | 97000 |\n",
       "| ⋮ | ⋮ | ⋮ | ⋮ | ⋮ | ⋮ | ⋮ | ⋮ | ⋮ | ⋮ |\n",
       "| Halifax | 419900 | 212 60 Walter Havill Drive | 2 | 2 | Nova Scotia | 431479 | 44.8857 | 63.1005 | 86753 |\n",
       "| Halifax | 949900 | 10 Idlewylde Road          | 3 | 1 | Nova Scotia | 431479 | 44.8857 | 63.1005 | 86753 |\n",
       "| Halifax | 592900 | 208 2842-2856 Gottingen    | 2 | 1 | Nova Scotia | 431479 | 44.8857 | 63.1005 | 86753 |\n",
       "\n"
      ],
      "text/plain": [
       "      city    price  address                    number_beds number_baths\n",
       "1     Toronto 779900 #318 -20 SOUTHPORT ST      3           2           \n",
       "2     Toronto 799999 #818 -60 SOUTHPORT ST      3           1           \n",
       "3     Toronto 799900 #714 -859 THE QUEENSWAY    2           2           \n",
       "⋮     ⋮       ⋮      ⋮                          ⋮           ⋮           \n",
       "34940 Halifax 419900 212 60 Walter Havill Drive 2           2           \n",
       "34941 Halifax 949900 10 Idlewylde Road          3           1           \n",
       "34942 Halifax 592900 208 2842-2856 Gottingen    2           1           \n",
       "      province    population latitude longitude median_family_income\n",
       "1     Ontario     5647656    43.7417  -79.3733  97000               \n",
       "2     Ontario     5647656    43.7417  -79.3733  97000               \n",
       "3     Ontario     5647656    43.7417  -79.3733  97000               \n",
       "⋮     ⋮           ⋮          ⋮        ⋮         ⋮                   \n",
       "34940 Nova Scotia 431479     44.8857  63.1005   86753               \n",
       "34941 Nova Scotia 431479     44.8857  63.1005   86753               \n",
       "34942 Nova Scotia 431479     44.8857  63.1005   86753               "
      ]
     },
     "metadata": {},
     "output_type": "display_data"
    }
   ],
   "source": [
    "housing_filter <- housing_raw |> filter(number_beds > 0 & number_baths > 0)\n",
    "housing_filter"
   ]
  },
  {
   "cell_type": "markdown",
   "id": "21301532-7b80-44e4-b1dc-926e7d180217",
   "metadata": {},
   "source": [
    "## 3. Methods"
   ]
  },
  {
   "cell_type": "markdown",
   "id": "4fb594da-e1d6-4d2d-bde7-59d5d5cc958a",
   "metadata": {},
   "source": [
    "Address, latitude, and longitude won't help us make a prediction, so let's remove them. Additionally it's important to note that median_family_income and population are only unique to the city, and so exist only to assign a numeric value to each city"
   ]
  },
  {
   "cell_type": "code",
   "execution_count": 26,
   "id": "bdfde83c-816d-4708-9f1a-b9a7eb341b54",
   "metadata": {},
   "outputs": [
    {
     "data": {
      "text/html": [
       "<table class=\"dataframe\">\n",
       "<caption>A tibble: 34942 × 7</caption>\n",
       "<thead>\n",
       "\t<tr><th scope=col>city</th><th scope=col>price</th><th scope=col>number_beds</th><th scope=col>number_baths</th><th scope=col>province</th><th scope=col>population</th><th scope=col>median_family_income</th></tr>\n",
       "\t<tr><th scope=col>&lt;chr&gt;</th><th scope=col>&lt;dbl&gt;</th><th scope=col>&lt;dbl&gt;</th><th scope=col>&lt;dbl&gt;</th><th scope=col>&lt;chr&gt;</th><th scope=col>&lt;dbl&gt;</th><th scope=col>&lt;dbl&gt;</th></tr>\n",
       "</thead>\n",
       "<tbody>\n",
       "\t<tr><td>Toronto</td><td>779900</td><td>3</td><td>2</td><td>Ontario</td><td>5647656</td><td>97000</td></tr>\n",
       "\t<tr><td>Toronto</td><td>799999</td><td>3</td><td>1</td><td>Ontario</td><td>5647656</td><td>97000</td></tr>\n",
       "\t<tr><td>Toronto</td><td>799900</td><td>2</td><td>2</td><td>Ontario</td><td>5647656</td><td>97000</td></tr>\n",
       "\t<tr><td>⋮</td><td>⋮</td><td>⋮</td><td>⋮</td><td>⋮</td><td>⋮</td><td>⋮</td></tr>\n",
       "\t<tr><td>Halifax</td><td>419900</td><td>2</td><td>2</td><td>Nova Scotia</td><td>431479</td><td>86753</td></tr>\n",
       "\t<tr><td>Halifax</td><td>949900</td><td>3</td><td>1</td><td>Nova Scotia</td><td>431479</td><td>86753</td></tr>\n",
       "\t<tr><td>Halifax</td><td>592900</td><td>2</td><td>1</td><td>Nova Scotia</td><td>431479</td><td>86753</td></tr>\n",
       "</tbody>\n",
       "</table>\n"
      ],
      "text/latex": [
       "A tibble: 34942 × 7\n",
       "\\begin{tabular}{lllllll}\n",
       " city & price & number\\_beds & number\\_baths & province & population & median\\_family\\_income\\\\\n",
       " <chr> & <dbl> & <dbl> & <dbl> & <chr> & <dbl> & <dbl>\\\\\n",
       "\\hline\n",
       "\t Toronto & 779900 & 3 & 2 & Ontario & 5647656 & 97000\\\\\n",
       "\t Toronto & 799999 & 3 & 1 & Ontario & 5647656 & 97000\\\\\n",
       "\t Toronto & 799900 & 2 & 2 & Ontario & 5647656 & 97000\\\\\n",
       "\t ⋮ & ⋮ & ⋮ & ⋮ & ⋮ & ⋮ & ⋮\\\\\n",
       "\t Halifax & 419900 & 2 & 2 & Nova Scotia & 431479 & 86753\\\\\n",
       "\t Halifax & 949900 & 3 & 1 & Nova Scotia & 431479 & 86753\\\\\n",
       "\t Halifax & 592900 & 2 & 1 & Nova Scotia & 431479 & 86753\\\\\n",
       "\\end{tabular}\n"
      ],
      "text/markdown": [
       "\n",
       "A tibble: 34942 × 7\n",
       "\n",
       "| city &lt;chr&gt; | price &lt;dbl&gt; | number_beds &lt;dbl&gt; | number_baths &lt;dbl&gt; | province &lt;chr&gt; | population &lt;dbl&gt; | median_family_income &lt;dbl&gt; |\n",
       "|---|---|---|---|---|---|---|\n",
       "| Toronto | 779900 | 3 | 2 | Ontario | 5647656 | 97000 |\n",
       "| Toronto | 799999 | 3 | 1 | Ontario | 5647656 | 97000 |\n",
       "| Toronto | 799900 | 2 | 2 | Ontario | 5647656 | 97000 |\n",
       "| ⋮ | ⋮ | ⋮ | ⋮ | ⋮ | ⋮ | ⋮ |\n",
       "| Halifax | 419900 | 2 | 2 | Nova Scotia | 431479 | 86753 |\n",
       "| Halifax | 949900 | 3 | 1 | Nova Scotia | 431479 | 86753 |\n",
       "| Halifax | 592900 | 2 | 1 | Nova Scotia | 431479 | 86753 |\n",
       "\n"
      ],
      "text/plain": [
       "      city    price  number_beds number_baths province    population\n",
       "1     Toronto 779900 3           2            Ontario     5647656   \n",
       "2     Toronto 799999 3           1            Ontario     5647656   \n",
       "3     Toronto 799900 2           2            Ontario     5647656   \n",
       "⋮     ⋮       ⋮      ⋮           ⋮            ⋮           ⋮         \n",
       "34940 Halifax 419900 2           2            Nova Scotia 431479    \n",
       "34941 Halifax 949900 3           1            Nova Scotia 431479    \n",
       "34942 Halifax 592900 2           1            Nova Scotia 431479    \n",
       "      median_family_income\n",
       "1     97000               \n",
       "2     97000               \n",
       "3     97000               \n",
       "⋮     ⋮                   \n",
       "34940 86753               \n",
       "34941 86753               \n",
       "34942 86753               "
      ]
     },
     "metadata": {},
     "output_type": "display_data"
    }
   ],
   "source": [
    "housing <- housing_filter |> select(-address, -latitude, -longitude)\n",
    "housing"
   ]
  },
  {
   "cell_type": "markdown",
   "id": "a278fc0f-2689-44f4-843a-65f3b063b1aa",
   "metadata": {},
   "source": [
    "## 4. Expected findings and significance"
   ]
  },
  {
   "cell_type": "code",
   "execution_count": null,
   "id": "b2937fa7-d09a-4d42-a96c-54a22dab2efd",
   "metadata": {},
   "outputs": [],
   "source": []
  }
 ],
 "metadata": {
  "kernelspec": {
   "display_name": "R",
   "language": "R",
   "name": "ir"
  },
  "language_info": {
   "codemirror_mode": "r",
   "file_extension": ".r",
   "mimetype": "text/x-r-source",
   "name": "R",
   "pygments_lexer": "r",
   "version": "4.3.1"
  }
 },
 "nbformat": 4,
 "nbformat_minor": 5
}
