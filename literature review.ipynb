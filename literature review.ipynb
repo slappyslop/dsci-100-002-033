{
 "cells": [
  {
   "cell_type": "markdown",
   "id": "afe9e442-745b-45b9-85a6-8213b78d03a2",
   "metadata": {},
   "source": [
    "Literature Review\n",
    "1. The Relationship between Purchase Price and Rent.\n",
    "\n",
    "As stated in economics theory, the asset price is \"the sum of the discounted value of expected future cash flow\"(Hirota & Suzuki-Löffelholz & Udagawa, 2019). Therefore, when we discuss the value of a house, we need to examine its rents since they are the \"discounted value\" we referred to before. This theory, reveals that the purchase price is not a determinant of the future rent. However, in Hirota, Suzuki-Löffelholz, and Udagawa's study, they applied behavioral economics theory to unfold the relationship between the purchase price and the rent. They hypothesized that the sunk cost of the property owner, which is the purchase price, does not affect the rent they will offer in the future, but it later turned out that there is an underlying correlation between those: even if the rent and the purchase price is not directly related with the rent offered, the property owners is likely to charge a higher rent if the purchase price is high (2019).\n",
    "\n",
    "2. Determinants of Housing price\n",
    "\n",
    "\"Quality of life\" is the thing Dimitrios and Sfakianaki argue affects the rents, thus influencing the housing price (2014). The rationale behind this phenomenon is that life becomes \"good\" when the quality is high (2019). It is true thatevery individual has to pay for traditional economics goods, such as food, shelter, and clothing. However, there is \"tangible goods\" appear in the market as well, which are suggesting a higher quality of living, including clean water and safe neighborhoods (2014)."
   ]
  },
  {
   "cell_type": "markdown",
   "id": "25185ec2-e954-4d74-893c-8156165ebc78",
   "metadata": {},
   "source": [
    "references\n",
    "\n",
    "Giannias, D., & Sfakianaki, E. (2014). CLASSIFICATIONS OF ENVIRONMENTAL QUALITY EFFECTS: THE CASE OF CANADIAN CITIES. E+M Ekonomie a Management, 17(2), 45-60. Retrieved from https://www.proquest.com/scholarly-journals/classifications-environmental-quality-effects/docview/1541843978/se-2\n",
    "\n",
    "Hirota, S., Suzuki-Löffelholz, K., & Udagawa, D. (2020). Does owners’ purchase price affect rent offered? experimental evidence. Journal of Behavioral and Experimental Finance, 25, 100260. https://doi.org/10.1016/j.jbef.2019.100260"
   ]
  }
 ],
 "metadata": {
  "kernelspec": {
   "display_name": "R",
   "language": "R",
   "name": "ir"
  },
  "language_info": {
   "codemirror_mode": "r",
   "file_extension": ".r",
   "mimetype": "text/x-r-source",
   "name": "R",
   "pygments_lexer": "r",
   "version": "4.3.1"
  }
 },
 "nbformat": 4,
 "nbformat_minor": 5
}
